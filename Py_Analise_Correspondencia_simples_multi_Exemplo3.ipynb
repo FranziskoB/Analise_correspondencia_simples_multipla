{
  "nbformat": 4,
  "nbformat_minor": 0,
  "metadata": {
    "colab": {
      "provenance": [],
      "authorship_tag": "ABX9TyNx4ztl1pflFq6EHCj5zaaK",
      "include_colab_link": true
    },
    "kernelspec": {
      "name": "python3",
      "display_name": "Python 3"
    },
    "language_info": {
      "name": "python"
    }
  },
  "cells": [
    {
      "cell_type": "markdown",
      "metadata": {
        "id": "view-in-github",
        "colab_type": "text"
      },
      "source": [
        "<a href=\"https://colab.research.google.com/github/FranziskoB/Analise_correspondencia_simples_multipla/blob/main/Py_Analise_Correspondencia_simples_multi_Exemplo3.ipynb\" target=\"_parent\"><img src=\"https://colab.research.google.com/assets/colab-badge.svg\" alt=\"Open In Colab\"/></a>"
      ]
    },
    {
      "cell_type": "markdown",
      "source": [
        "# Análise por correspondência multipla"
      ],
      "metadata": {
        "id": "j1pTT_AK9yV_"
      }
    },
    {
      "cell_type": "markdown",
      "source": [
        "Fonte: https://www.kaggle.com/code/jiagengchang/heart-disease-multiple-correspondence-analysis"
      ],
      "metadata": {
        "id": "xXftXEbi-HzV"
      }
    },
    {
      "cell_type": "markdown",
      "source": [
        "Análise de associção entre resultados de exames do dataset e doenças cardiacas."
      ],
      "metadata": {
        "id": "2eNto84--fmT"
      }
    },
    {
      "cell_type": "markdown",
      "source": [
        "##Importando e trantando os dados"
      ],
      "metadata": {
        "id": "BhqKA2PQJiKE"
      }
    },
    {
      "cell_type": "code",
      "source": [
        "!pip install prince"
      ],
      "metadata": {
        "colab": {
          "base_uri": "https://localhost:8080/"
        },
        "id": "kVyOzappuj4R",
        "outputId": "16385436-74a9-434f-cd3a-c9aec6a4b3b0"
      },
      "execution_count": 1,
      "outputs": [
        {
          "output_type": "stream",
          "name": "stdout",
          "text": [
            "Looking in indexes: https://pypi.org/simple, https://us-python.pkg.dev/colab-wheels/public/simple/\n",
            "Requirement already satisfied: prince in /usr/local/lib/python3.8/dist-packages (0.7.1)\n",
            "Requirement already satisfied: pandas>=1.0.3 in /usr/local/lib/python3.8/dist-packages (from prince) (1.3.5)\n",
            "Requirement already satisfied: scipy>=1.3.0 in /usr/local/lib/python3.8/dist-packages (from prince) (1.7.3)\n",
            "Requirement already satisfied: scikit-learn>=0.22.1 in /usr/local/lib/python3.8/dist-packages (from prince) (1.0.2)\n",
            "Requirement already satisfied: matplotlib>=3.0.2 in /usr/local/lib/python3.8/dist-packages (from prince) (3.2.2)\n",
            "Requirement already satisfied: numpy>=1.17.1 in /usr/local/lib/python3.8/dist-packages (from prince) (1.21.6)\n",
            "Requirement already satisfied: pyparsing!=2.0.4,!=2.1.2,!=2.1.6,>=2.0.1 in /usr/local/lib/python3.8/dist-packages (from matplotlib>=3.0.2->prince) (3.0.9)\n",
            "Requirement already satisfied: cycler>=0.10 in /usr/local/lib/python3.8/dist-packages (from matplotlib>=3.0.2->prince) (0.11.0)\n",
            "Requirement already satisfied: python-dateutil>=2.1 in /usr/local/lib/python3.8/dist-packages (from matplotlib>=3.0.2->prince) (2.8.2)\n",
            "Requirement already satisfied: kiwisolver>=1.0.1 in /usr/local/lib/python3.8/dist-packages (from matplotlib>=3.0.2->prince) (1.4.4)\n",
            "Requirement already satisfied: pytz>=2017.3 in /usr/local/lib/python3.8/dist-packages (from pandas>=1.0.3->prince) (2022.7)\n",
            "Requirement already satisfied: joblib>=0.11 in /usr/local/lib/python3.8/dist-packages (from scikit-learn>=0.22.1->prince) (1.2.0)\n",
            "Requirement already satisfied: threadpoolctl>=2.0.0 in /usr/local/lib/python3.8/dist-packages (from scikit-learn>=0.22.1->prince) (3.1.0)\n",
            "Requirement already satisfied: six>=1.5 in /usr/local/lib/python3.8/dist-packages (from python-dateutil>=2.1->matplotlib>=3.0.2->prince) (1.15.0)\n"
          ]
        }
      ]
    },
    {
      "cell_type": "code",
      "source": [
        "import pandas as pd\n",
        "import prince\n",
        "from scipy.stats import chi2_contingency"
      ],
      "metadata": {
        "id": "QAoSBVmHBHaJ"
      },
      "execution_count": 2,
      "outputs": []
    },
    {
      "cell_type": "code",
      "execution_count": 43,
      "metadata": {
        "id": "3Xf-1jwM9xoG"
      },
      "outputs": [],
      "source": [
        "dados= pd.read_excel('https://github.com/FranziskoB/Analise_correspondencia_simples_multipla/raw/main/dados/dados_cor_acm.xlsx')"
      ]
    },
    {
      "cell_type": "code",
      "source": [
        "dados.head(5)"
      ],
      "metadata": {
        "colab": {
          "base_uri": "https://localhost:8080/",
          "height": 206
        },
        "id": "ILU9hwVDBhmw",
        "outputId": "25d86b35-9f27-49ac-8695-80913fdb0cfd"
      },
      "execution_count": 32,
      "outputs": [
        {
          "output_type": "execute_result",
          "data": {
            "text/plain": [
              "   Idade       Sexo Tipo_Dor_Peito  BC_Descanço  Colesterol Açucar_Sangue  \\\n",
              "0     40  Masculino        Atipica          140         289        Normal   \n",
              "1     49   Feminino        Sem_Dor          160         180        Normal   \n",
              "2     37  Masculino        Atipica          130         283        Normal   \n",
              "3     48   Feminino  Assintomatico          138         214        Normal   \n",
              "4     54  Masculino        Sem_Dor          150         195        Normal   \n",
              "\n",
              "  ECG_Descanço  BC_Max Angina_Exerc Doença_Card  \n",
              "0       Normal     172          Nao         Nao  \n",
              "1       Normal     156          Nao         Sim  \n",
              "2   Anormal_ST      98          Nao         Nao  \n",
              "3       Normal     108          Sim         Sim  \n",
              "4       Normal     122          Nao         Nao  "
            ],
            "text/html": [
              "\n",
              "  <div id=\"df-f84dc425-ea6f-48cf-bfcc-f61b803b45d9\">\n",
              "    <div class=\"colab-df-container\">\n",
              "      <div>\n",
              "<style scoped>\n",
              "    .dataframe tbody tr th:only-of-type {\n",
              "        vertical-align: middle;\n",
              "    }\n",
              "\n",
              "    .dataframe tbody tr th {\n",
              "        vertical-align: top;\n",
              "    }\n",
              "\n",
              "    .dataframe thead th {\n",
              "        text-align: right;\n",
              "    }\n",
              "</style>\n",
              "<table border=\"1\" class=\"dataframe\">\n",
              "  <thead>\n",
              "    <tr style=\"text-align: right;\">\n",
              "      <th></th>\n",
              "      <th>Idade</th>\n",
              "      <th>Sexo</th>\n",
              "      <th>Tipo_Dor_Peito</th>\n",
              "      <th>BC_Descanço</th>\n",
              "      <th>Colesterol</th>\n",
              "      <th>Açucar_Sangue</th>\n",
              "      <th>ECG_Descanço</th>\n",
              "      <th>BC_Max</th>\n",
              "      <th>Angina_Exerc</th>\n",
              "      <th>Doença_Card</th>\n",
              "    </tr>\n",
              "  </thead>\n",
              "  <tbody>\n",
              "    <tr>\n",
              "      <th>0</th>\n",
              "      <td>40</td>\n",
              "      <td>Masculino</td>\n",
              "      <td>Atipica</td>\n",
              "      <td>140</td>\n",
              "      <td>289</td>\n",
              "      <td>Normal</td>\n",
              "      <td>Normal</td>\n",
              "      <td>172</td>\n",
              "      <td>Nao</td>\n",
              "      <td>Nao</td>\n",
              "    </tr>\n",
              "    <tr>\n",
              "      <th>1</th>\n",
              "      <td>49</td>\n",
              "      <td>Feminino</td>\n",
              "      <td>Sem_Dor</td>\n",
              "      <td>160</td>\n",
              "      <td>180</td>\n",
              "      <td>Normal</td>\n",
              "      <td>Normal</td>\n",
              "      <td>156</td>\n",
              "      <td>Nao</td>\n",
              "      <td>Sim</td>\n",
              "    </tr>\n",
              "    <tr>\n",
              "      <th>2</th>\n",
              "      <td>37</td>\n",
              "      <td>Masculino</td>\n",
              "      <td>Atipica</td>\n",
              "      <td>130</td>\n",
              "      <td>283</td>\n",
              "      <td>Normal</td>\n",
              "      <td>Anormal_ST</td>\n",
              "      <td>98</td>\n",
              "      <td>Nao</td>\n",
              "      <td>Nao</td>\n",
              "    </tr>\n",
              "    <tr>\n",
              "      <th>3</th>\n",
              "      <td>48</td>\n",
              "      <td>Feminino</td>\n",
              "      <td>Assintomatico</td>\n",
              "      <td>138</td>\n",
              "      <td>214</td>\n",
              "      <td>Normal</td>\n",
              "      <td>Normal</td>\n",
              "      <td>108</td>\n",
              "      <td>Sim</td>\n",
              "      <td>Sim</td>\n",
              "    </tr>\n",
              "    <tr>\n",
              "      <th>4</th>\n",
              "      <td>54</td>\n",
              "      <td>Masculino</td>\n",
              "      <td>Sem_Dor</td>\n",
              "      <td>150</td>\n",
              "      <td>195</td>\n",
              "      <td>Normal</td>\n",
              "      <td>Normal</td>\n",
              "      <td>122</td>\n",
              "      <td>Nao</td>\n",
              "      <td>Nao</td>\n",
              "    </tr>\n",
              "  </tbody>\n",
              "</table>\n",
              "</div>\n",
              "      <button class=\"colab-df-convert\" onclick=\"convertToInteractive('df-f84dc425-ea6f-48cf-bfcc-f61b803b45d9')\"\n",
              "              title=\"Convert this dataframe to an interactive table.\"\n",
              "              style=\"display:none;\">\n",
              "        \n",
              "  <svg xmlns=\"http://www.w3.org/2000/svg\" height=\"24px\"viewBox=\"0 0 24 24\"\n",
              "       width=\"24px\">\n",
              "    <path d=\"M0 0h24v24H0V0z\" fill=\"none\"/>\n",
              "    <path d=\"M18.56 5.44l.94 2.06.94-2.06 2.06-.94-2.06-.94-.94-2.06-.94 2.06-2.06.94zm-11 1L8.5 8.5l.94-2.06 2.06-.94-2.06-.94L8.5 2.5l-.94 2.06-2.06.94zm10 10l.94 2.06.94-2.06 2.06-.94-2.06-.94-.94-2.06-.94 2.06-2.06.94z\"/><path d=\"M17.41 7.96l-1.37-1.37c-.4-.4-.92-.59-1.43-.59-.52 0-1.04.2-1.43.59L10.3 9.45l-7.72 7.72c-.78.78-.78 2.05 0 2.83L4 21.41c.39.39.9.59 1.41.59.51 0 1.02-.2 1.41-.59l7.78-7.78 2.81-2.81c.8-.78.8-2.07 0-2.86zM5.41 20L4 18.59l7.72-7.72 1.47 1.35L5.41 20z\"/>\n",
              "  </svg>\n",
              "      </button>\n",
              "      \n",
              "  <style>\n",
              "    .colab-df-container {\n",
              "      display:flex;\n",
              "      flex-wrap:wrap;\n",
              "      gap: 12px;\n",
              "    }\n",
              "\n",
              "    .colab-df-convert {\n",
              "      background-color: #E8F0FE;\n",
              "      border: none;\n",
              "      border-radius: 50%;\n",
              "      cursor: pointer;\n",
              "      display: none;\n",
              "      fill: #1967D2;\n",
              "      height: 32px;\n",
              "      padding: 0 0 0 0;\n",
              "      width: 32px;\n",
              "    }\n",
              "\n",
              "    .colab-df-convert:hover {\n",
              "      background-color: #E2EBFA;\n",
              "      box-shadow: 0px 1px 2px rgba(60, 64, 67, 0.3), 0px 1px 3px 1px rgba(60, 64, 67, 0.15);\n",
              "      fill: #174EA6;\n",
              "    }\n",
              "\n",
              "    [theme=dark] .colab-df-convert {\n",
              "      background-color: #3B4455;\n",
              "      fill: #D2E3FC;\n",
              "    }\n",
              "\n",
              "    [theme=dark] .colab-df-convert:hover {\n",
              "      background-color: #434B5C;\n",
              "      box-shadow: 0px 1px 3px 1px rgba(0, 0, 0, 0.15);\n",
              "      filter: drop-shadow(0px 1px 2px rgba(0, 0, 0, 0.3));\n",
              "      fill: #FFFFFF;\n",
              "    }\n",
              "  </style>\n",
              "\n",
              "      <script>\n",
              "        const buttonEl =\n",
              "          document.querySelector('#df-f84dc425-ea6f-48cf-bfcc-f61b803b45d9 button.colab-df-convert');\n",
              "        buttonEl.style.display =\n",
              "          google.colab.kernel.accessAllowed ? 'block' : 'none';\n",
              "\n",
              "        async function convertToInteractive(key) {\n",
              "          const element = document.querySelector('#df-f84dc425-ea6f-48cf-bfcc-f61b803b45d9');\n",
              "          const dataTable =\n",
              "            await google.colab.kernel.invokeFunction('convertToInteractive',\n",
              "                                                     [key], {});\n",
              "          if (!dataTable) return;\n",
              "\n",
              "          const docLinkHtml = 'Like what you see? Visit the ' +\n",
              "            '<a target=\"_blank\" href=https://colab.research.google.com/notebooks/data_table.ipynb>data table notebook</a>'\n",
              "            + ' to learn more about interactive tables.';\n",
              "          element.innerHTML = '';\n",
              "          dataTable['output_type'] = 'display_data';\n",
              "          await google.colab.output.renderOutput(dataTable, element);\n",
              "          const docLink = document.createElement('div');\n",
              "          docLink.innerHTML = docLinkHtml;\n",
              "          element.appendChild(docLink);\n",
              "        }\n",
              "      </script>\n",
              "    </div>\n",
              "  </div>\n",
              "  "
            ]
          },
          "metadata": {},
          "execution_count": 32
        }
      ]
    },
    {
      "cell_type": "code",
      "source": [
        "min(dados.Colesterol)"
      ],
      "metadata": {
        "colab": {
          "base_uri": "https://localhost:8080/"
        },
        "id": "OoAfmadXS5cK",
        "outputId": "815ad462-56a5-48b5-878a-2a5ccb528938"
      },
      "execution_count": 46,
      "outputs": [
        {
          "output_type": "execute_result",
          "data": {
            "text/plain": [
              "0"
            ]
          },
          "metadata": {},
          "execution_count": 46
        }
      ]
    },
    {
      "cell_type": "code",
      "source": [
        "dados.Colesterol.quantile(0.75)"
      ],
      "metadata": {
        "colab": {
          "base_uri": "https://localhost:8080/"
        },
        "id": "My6rFKqJTj1i",
        "outputId": "b3927f44-adca-409d-8f6a-23de8f1c6e02"
      },
      "execution_count": 28,
      "outputs": [
        {
          "output_type": "execute_result",
          "data": {
            "text/plain": [
              "267.0"
            ]
          },
          "metadata": {},
          "execution_count": 28
        }
      ]
    },
    {
      "cell_type": "markdown",
      "source": [
        "Algumas variáveis são qualitativas e outras quantitativas então vamos categorizar as variáveis quanti (por critério estatístico)."
      ],
      "metadata": {
        "id": "j5hChalMHOTq"
      }
    },
    {
      "cell_type": "code",
      "source": [
        "dados_categoricos=dados\n",
        "classes_idade = [0, dados.Idade.quantile(0.25), dados.Idade.quantile(0.75), max(dados.Idade)]\n",
        "labels_idade=['menores_idades','idades_médias','maiores_idades']\n",
        "dados_categoricos.Idade = pd.cut(x=dados_categoricos.Idade, bins=classes_idade, labels=labels_idade)\n",
        "\n",
        "classes_BC_Descanço = [0, dados.BC_Descanço.quantile(0.25), dados.BC_Descanço.quantile(0.75), (max(dados.BC_Descanço)+1)]\n",
        "labels_BC_Descanço=['BC_Descanço_menor','BC_Descanço_medio','BC_Descanço_maior']\n",
        "dados_categoricos.BC_Descanço  = pd.cut(x=dados_categoricos.BC_Descanço , bins=classes_BC_Descanço , labels=labels_BC_Descanço )\n",
        "\n",
        "classes_BC_Max= [0, dados.BC_Max.quantile(0.25), dados.BC_Max.quantile(0.75), max(dados.BC_Max)]\n",
        "labels_BC_Max=['BC_Max_menor','BC_Max_medio','BC_Max_maior']\n",
        "dados_categoricos.BC_Max = pd.cut(x=dados_categoricos.BC_Max , bins=classes_BC_Max , labels=labels_BC_Max )\n",
        "\n",
        "classes_Colesterol = [-1, dados.Colesterol.quantile(0.25), dados.Colesterol.quantile(0.75), 10000]\n",
        "labels_Colesterol=['Colesterol_menor','Colesterol_medio','Colesterol_maior']\n",
        "dados_categoricos.Colesterol = pd.cut(x=dados_categoricos.Colesterol , bins=classes_Colesterol, labels=labels_Colesterol )\n",
        "dados = dados_categoricos"
      ],
      "metadata": {
        "id": "n8DTkbQzHoDN"
      },
      "execution_count": 47,
      "outputs": []
    },
    {
      "cell_type": "markdown",
      "source": [
        "##Tabela de contingência e analise de significância estatística das associações (teste qui²)"
      ],
      "metadata": {
        "id": "veULuVNQxDvt"
      }
    },
    {
      "cell_type": "markdown",
      "source": [
        "###Sexo x Doença Cardíaca "
      ],
      "metadata": {
        "id": "RwFTLjw1HNub"
      }
    },
    {
      "cell_type": "code",
      "source": [
        "tabela_mca_1 = pd.crosstab(dados[\"Sexo\"], dados[\"Doença_Card\"])\n",
        "print(tabela_mca_1)\n",
        "print('\\n')\n",
        "chi2, pvalor, df, freq_esp = chi2_contingency(tabela_mca_1)\n",
        "print(f\"estatística qui²: {chi2}\") # estatística qui²\n",
        "print(f\"p-valor da estatística: {pvalor}\") # p-valor da estatística\n",
        "print(f\"graus de liberdade: {df} \\n\") # graus de liberdade"
      ],
      "metadata": {
        "colab": {
          "base_uri": "https://localhost:8080/"
        },
        "id": "nwkem8K9xHE5",
        "outputId": "64e48082-65f4-456e-a116-55268a016e88"
      },
      "execution_count": 34,
      "outputs": [
        {
          "output_type": "stream",
          "name": "stdout",
          "text": [
            "Doença_Card  Nao  Sim\n",
            "Sexo                 \n",
            "Feminino     143   50\n",
            "Masculino    267  458\n",
            "\n",
            "\n",
            "estatística qui²: 84.14510134633775\n",
            "p-valor da estatística: 4.597617450809164e-20\n",
            "graus de liberdade: 1 \n",
            "\n"
          ]
        }
      ]
    },
    {
      "cell_type": "markdown",
      "source": [
        "###Tipo_dor_Peito x Doença Cardíaca"
      ],
      "metadata": {
        "id": "7tR0P3HXHhzL"
      }
    },
    {
      "cell_type": "code",
      "source": [
        "tabela_mca_2 = pd.crosstab(dados[\"Tipo_Dor_Peito\"], dados[\"Doença_Card\"])\n",
        "print(tabela_mca_2)\n",
        "print('\\n')\n",
        "chi2, pvalor, df, freq_esp = chi2_contingency(tabela_mca_2)\n",
        "print(f\"estatística qui²: {chi2}\") # estatística qui²\n",
        "print(f\"p-valor da estatística: {pvalor}\") # p-valor da estatística\n",
        "print(f\"graus de liberdade: {df} \\n\") # graus de liberdade"
      ],
      "metadata": {
        "colab": {
          "base_uri": "https://localhost:8080/"
        },
        "id": "bLT-1JstHkJP",
        "outputId": "98dd0039-1bd7-4ece-8b88-391802458f7e"
      },
      "execution_count": 35,
      "outputs": [
        {
          "output_type": "stream",
          "name": "stdout",
          "text": [
            "Doença_Card     Nao  Sim\n",
            "Tipo_Dor_Peito          \n",
            "Assintomatico   104  392\n",
            "Atipica         149   24\n",
            "Sem_Dor         131   72\n",
            "Tipica           26   20\n",
            "\n",
            "\n",
            "estatística qui²: 268.06723902181767\n",
            "p-valor da estatística: 8.08372842808765e-58\n",
            "graus de liberdade: 3 \n",
            "\n"
          ]
        }
      ]
    },
    {
      "cell_type": "markdown",
      "source": [
        "###BC_Descanço x Doença Cardíaca"
      ],
      "metadata": {
        "id": "eGkbLKlrIF02"
      }
    },
    {
      "cell_type": "code",
      "source": [
        "tabela_mca_3 = pd.crosstab(dados[\"BC_Descanço\"], dados[\"Doença_Card\"])\n",
        "print(tabela_mca_3)\n",
        "print('\\n')\n",
        "chi2, pvalor, df, freq_esp = chi2_contingency(tabela_mca_3)\n",
        "print(f\"estatística qui²: {chi2}\") # estatística qui²\n",
        "print(f\"p-valor da estatística: {pvalor}\") # p-valor da estatística\n",
        "print(f\"graus de liberdade: {df} \\n\") # graus de liberdade"
      ],
      "metadata": {
        "colab": {
          "base_uri": "https://localhost:8080/"
        },
        "id": "B2QEIrPIIF02",
        "outputId": "f4ca31a6-ab07-4ca4-b59d-d884f204b80f"
      },
      "execution_count": 36,
      "outputs": [
        {
          "output_type": "stream",
          "name": "stdout",
          "text": [
            "Doença_Card        Nao  Sim\n",
            "BC_Descanço                \n",
            "BC_Descanço_menor  150  142\n",
            "BC_Descanço_medio  190  215\n",
            "BC_Descanço_maior   70  150\n",
            "\n",
            "\n",
            "estatística qui²: 20.82569045891441\n",
            "p-valor da estatística: 3.0044070744188467e-05\n",
            "graus de liberdade: 2 \n",
            "\n"
          ]
        }
      ]
    },
    {
      "cell_type": "markdown",
      "source": [
        "###Colesterol x Doença Cardíaca"
      ],
      "metadata": {
        "id": "9_-jhmbdIGKG"
      }
    },
    {
      "cell_type": "code",
      "source": [
        "tabela_mca_4 = pd.crosstab(dados[\"Colesterol\"], dados[\"Doença_Card\"])\n",
        "print(tabela_mca_4)\n",
        "print('\\n')\n",
        "chi2, pvalor, df, freq_esp = chi2_contingency(tabela_mca_4)\n",
        "print(f\"estatística qui²: {chi2}\") # estatística qui²\n",
        "print(f\"p-valor da estatística: {pvalor}\") # p-valor da estatística\n",
        "print(f\"graus de liberdade: {df} \\n\") # graus de liberdade"
      ],
      "metadata": {
        "colab": {
          "base_uri": "https://localhost:8080/"
        },
        "id": "DjrOQ5UNIGKG",
        "outputId": "187342ff-1dbf-4d98-8d23-6bd032e0796c"
      },
      "execution_count": 40,
      "outputs": [
        {
          "output_type": "stream",
          "name": "stdout",
          "text": [
            "Doença_Card       Nao  Sim\n",
            "Colesterol                \n",
            "Colesterol_menor   31   27\n",
            "Colesterol_medio  257  204\n",
            "Colesterol_maior  102  125\n",
            "\n",
            "\n",
            "estatística qui²: 7.164819003531016\n",
            "p-valor da estatística: 0.02780861256508728\n",
            "graus de liberdade: 2 \n",
            "\n"
          ]
        }
      ]
    },
    {
      "cell_type": "markdown",
      "source": [
        "###Açucar_Sangue x Doença Cardíaca"
      ],
      "metadata": {
        "id": "TrjchOCAIGTT"
      }
    },
    {
      "cell_type": "code",
      "source": [
        "tabela_mca_5 = pd.crosstab(dados[\"Açucar_Sangue\"], dados[\"Doença_Card\"])\n",
        "print(tabela_mca_5)\n",
        "print('\\n')\n",
        "chi2, pvalor, df, freq_esp = chi2_contingency(tabela_mca_5)\n",
        "print(f\"estatística qui²: {chi2}\") # estatística qui²\n",
        "print(f\"p-valor da estatística: {pvalor}\") # p-valor da estatística\n",
        "print(f\"graus de liberdade: {df} \\n\") # graus de liberdade"
      ],
      "metadata": {
        "colab": {
          "base_uri": "https://localhost:8080/"
        },
        "id": "Wi_0zDiTIGTU",
        "outputId": "ab33d975-1000-41fb-90f4-3de5f06a108b"
      },
      "execution_count": 10,
      "outputs": [
        {
          "output_type": "stream",
          "name": "stdout",
          "text": [
            "Doença_Card    Nao  Sim\n",
            "Açucar_Sangue          \n",
            "Diabetes        44  170\n",
            "Normal         366  338\n",
            "\n",
            "\n",
            "estatística qui²: 64.32067909335939\n",
            "p-valor da estatística: 1.0573018731810034e-15\n",
            "graus de liberdade: 1 \n",
            "\n"
          ]
        }
      ]
    },
    {
      "cell_type": "markdown",
      "source": [
        "###ECG_Descançox Doença Cardíaca"
      ],
      "metadata": {
        "id": "5le9mY1sIGma"
      }
    },
    {
      "cell_type": "code",
      "source": [
        "tabela_mca_6 = pd.crosstab(dados[\"ECG_Descanço\"], dados[\"Doença_Card\"])\n",
        "print(tabela_mca_6)\n",
        "print('\\n')\n",
        "chi2, pvalor, df, freq_esp = chi2_contingency(tabela_mca_6)\n",
        "print(f\"estatística qui²: {chi2}\") # estatística qui²\n",
        "print(f\"p-valor da estatística: {pvalor}\") # p-valor da estatística\n",
        "print(f\"graus de liberdade: {df} \\n\") # graus de liberdade"
      ],
      "metadata": {
        "colab": {
          "base_uri": "https://localhost:8080/"
        },
        "id": "czvzCiQiIGma",
        "outputId": "aa89b691-b9d8-4223-d3ea-4e84dd32aab1"
      },
      "execution_count": 11,
      "outputs": [
        {
          "output_type": "stream",
          "name": "stdout",
          "text": [
            "Doença_Card     Nao  Sim\n",
            "ECG_Descanço            \n",
            "Anormal_ST       61  117\n",
            "Hipertrofia_VE   82  106\n",
            "Normal          267  285\n",
            "\n",
            "\n",
            "estatística qui²: 10.93146933914098\n",
            "p-valor da estatística: 0.004229232816754488\n",
            "graus de liberdade: 2 \n",
            "\n"
          ]
        }
      ]
    },
    {
      "cell_type": "markdown",
      "source": [
        "###BC_Max x Doença Cardíaca"
      ],
      "metadata": {
        "id": "BTMDVPHzIGvp"
      }
    },
    {
      "cell_type": "code",
      "source": [
        "tabela_mca_7 = pd.crosstab(dados[\"BC_Max\"], dados[\"Doença_Card\"])\n",
        "print(tabela_mca_7)\n",
        "print('\\n')\n",
        "chi2, pvalor, df, freq_esp = chi2_contingency(tabela_mca_7)\n",
        "print(f\"estatística qui²: {chi2}\") # estatística qui²\n",
        "print(f\"p-valor da estatística: {pvalor}\") # p-valor da estatística\n",
        "print(f\"graus de liberdade: {df} \\n\") # graus de liberdade"
      ],
      "metadata": {
        "colab": {
          "base_uri": "https://localhost:8080/"
        },
        "id": "n7gyffQ2IGvq",
        "outputId": "ca87c47b-94c2-4e00-e41b-bdc55a4a7840"
      },
      "execution_count": 12,
      "outputs": [
        {
          "output_type": "stream",
          "name": "stdout",
          "text": [
            "Doença_Card   Nao  Sim\n",
            "BC_Max                \n",
            "BC_Max_menor   59  202\n",
            "BC_Max_medio  188  248\n",
            "BC_Max_maior  163   58\n",
            "\n",
            "\n",
            "estatística qui²: 127.48339266941984\n",
            "p-valor da estatística: 2.076505160180933e-28\n",
            "graus de liberdade: 2 \n",
            "\n"
          ]
        }
      ]
    },
    {
      "cell_type": "markdown",
      "source": [
        "###Angina_Exerc x Doença Cardíaca"
      ],
      "metadata": {
        "id": "7MZY7Gr6ImQE"
      }
    },
    {
      "cell_type": "code",
      "source": [
        "tabela_mca_8 = pd.crosstab(dados[\"Angina_Exerc\"], dados[\"Doença_Card\"])\n",
        "print(tabela_mca_8)\n",
        "print('\\n')\n",
        "chi2, pvalor, df, freq_esp = chi2_contingency(tabela_mca_8)\n",
        "print(f\"estatística qui²: {chi2}\") # estatística qui²\n",
        "print(f\"p-valor da estatística: {pvalor}\") # p-valor da estatística\n",
        "print(f\"graus de liberdade: {df} \\n\") # graus de liberdade"
      ],
      "metadata": {
        "colab": {
          "base_uri": "https://localhost:8080/"
        },
        "id": "0cnxXs3aImQF",
        "outputId": "2a1a866a-bb73-410c-96f5-ad0326c2a0b5"
      },
      "execution_count": 13,
      "outputs": [
        {
          "output_type": "stream",
          "name": "stdout",
          "text": [
            "Doença_Card   Nao  Sim\n",
            "Angina_Exerc          \n",
            "Nao           355  192\n",
            "Sim            55  316\n",
            "\n",
            "\n",
            "estatística qui²: 222.25938271530583\n",
            "p-valor da estatística: 2.907808387659878e-50\n",
            "graus de liberdade: 1 \n",
            "\n"
          ]
        }
      ]
    },
    {
      "cell_type": "markdown",
      "source": [
        "###BC_Descanço x Doença Cardíaca"
      ],
      "metadata": {
        "id": "4F1zS4a1Vl5n"
      }
    },
    {
      "cell_type": "code",
      "source": [
        "tabela_mca_9 = pd.crosstab(dados[\"BC_Descanço\"], dados[\"Doença_Card\"])\n",
        "print(tabela_mca_9)\n",
        "print('\\n')\n",
        "chi2, pvalor, df, freq_esp = chi2_contingency(tabela_mca_9)\n",
        "print(f\"estatística qui²: {chi2}\") # estatística qui²\n",
        "print(f\"p-valor da estatística: {pvalor}\") # p-valor da estatística\n",
        "print(f\"graus de liberdade: {df} \\n\") # graus de liberdade"
      ],
      "metadata": {
        "colab": {
          "base_uri": "https://localhost:8080/"
        },
        "outputId": "1efe1731-e308-41a2-eaf6-9830ee5c9662",
        "id": "d3ghBtLoVl5s"
      },
      "execution_count": 49,
      "outputs": [
        {
          "output_type": "stream",
          "name": "stdout",
          "text": [
            "Doença_Card        Nao  Sim\n",
            "BC_Descanço                \n",
            "BC_Descanço_menor  150  142\n",
            "BC_Descanço_medio  190  215\n",
            "BC_Descanço_maior   70  150\n",
            "\n",
            "\n",
            "estatística qui²: 20.82569045891441\n",
            "p-valor da estatística: 3.0044070744188467e-05\n",
            "graus de liberdade: 2 \n",
            "\n"
          ]
        }
      ]
    },
    {
      "cell_type": "markdown",
      "source": [
        "###Idade x Doença Cardíaca"
      ],
      "metadata": {
        "id": "Ri2IAOtFVmCv"
      }
    },
    {
      "cell_type": "code",
      "source": [
        "tabela_mca_10 = pd.crosstab(dados[\"Idade\"], dados[\"Doença_Card\"])\n",
        "print(tabela_mca_10)\n",
        "print('\\n')\n",
        "chi2, pvalor, df, freq_esp = chi2_contingency(tabela_mca_10)\n",
        "print(f\"estatística qui²: {chi2}\") # estatística qui²\n",
        "print(f\"p-valor da estatística: {pvalor}\") # p-valor da estatística\n",
        "print(f\"graus de liberdade: {df} \\n\") # graus de liberdade"
      ],
      "metadata": {
        "colab": {
          "base_uri": "https://localhost:8080/"
        },
        "outputId": "53c6e5db-75fd-4efd-cf26-99daeb4503b5",
        "id": "F_UbMz77VmCv"
      },
      "execution_count": 50,
      "outputs": [
        {
          "output_type": "stream",
          "name": "stdout",
          "text": [
            "Doença_Card     Nao  Sim\n",
            "Idade                   \n",
            "menores_idades  154   85\n",
            "idades_médias   196  262\n",
            "maiores_idades   60  161\n",
            "\n",
            "\n",
            "estatística qui²: 65.87869493663833\n",
            "p-valor da estatística: 4.95020468678594e-15\n",
            "graus de liberdade: 2 \n",
            "\n"
          ]
        }
      ]
    },
    {
      "cell_type": "markdown",
      "source": [
        "### Conclusão"
      ],
      "metadata": {
        "id": "aCORhy_wWE9E"
      }
    },
    {
      "cell_type": "markdown",
      "source": [
        "Todos os variáveis tem associação significativa com doenças cardíacas"
      ],
      "metadata": {
        "id": "Ljt8__aXWHCH"
      }
    },
    {
      "cell_type": "markdown",
      "source": [
        "##Elaborando a MCA"
      ],
      "metadata": {
        "id": "tv_BU4KbJu_6"
      }
    },
    {
      "cell_type": "markdown",
      "source": [
        "matriz de Burt"
      ],
      "metadata": {
        "id": "Y4wLgoTmJwKU"
      }
    },
    {
      "cell_type": "code",
      "source": [
        "mca = prince.MCA()\n",
        "mca = mca.fit(dados)"
      ],
      "metadata": {
        "id": "fKn51oV4Jzwd"
      },
      "execution_count": 14,
      "outputs": []
    },
    {
      "cell_type": "markdown",
      "source": [
        "Obtendo as coordenadas nas duas dimensões do mapa"
      ],
      "metadata": {
        "id": "1ArX_3BeJ-Hx"
      }
    },
    {
      "cell_type": "code",
      "source": [
        "print(mca.column_coordinates(dados))"
      ],
      "metadata": {
        "colab": {
          "base_uri": "https://localhost:8080/"
        },
        "id": "dxR9JZSmJ-fG",
        "outputId": "7fbb8a37-6658-40e1-c2fc-0e61a78dada5"
      },
      "execution_count": 15,
      "outputs": [
        {
          "output_type": "stream",
          "name": "stdout",
          "text": [
            "                                      0         1\n",
            "Idade_menores_idades           0.735280 -0.562084\n",
            "Idade_idades_médias           -0.082184 -0.107739\n",
            "Idade_maiores_idades          -0.686110  0.812058\n",
            "Sexo_Feminino                  0.764429  0.622663\n",
            "Sexo_Masculino                -0.222170 -0.171575\n",
            "Tipo_Dor_Peito_Assintomatico  -0.627659 -0.238299\n",
            "Tipo_Dor_Peito_Atipica         1.076110 -0.212360\n",
            "Tipo_Dor_Peito_Sem_Dor         0.471663  0.312632\n",
            "Tipo_Dor_Peito_Tipica          0.344905  1.896789\n",
            "BC_Descanço_BC_Descanço_menor  0.340305 -0.558309\n",
            "BC_Descanço_BC_Descanço_medio  0.011283 -0.020487\n",
            "BC_Descanço_BC_Descanço_maior -0.534563  0.761502\n",
            "Colesterol_Colesterol_menor    0.161563 -0.429102\n",
            "Colesterol_Colesterol_medio    0.262371 -0.089230\n",
            "Colesterol_Colesterol_maior   -0.036786  0.456205\n",
            "Açucar_Sangue_Diabetes        -0.700203  0.325932\n",
            "Açucar_Sangue_Normal           0.193615 -0.105067\n",
            "ECG_Descanço_Anormal_ST       -0.580225  0.235677\n",
            "ECG_Descanço_Hipertrofia_VE    0.001807  1.016064\n",
            "ECG_Descanço_Normal            0.161960 -0.429689\n",
            "BC_Max_BC_Max_menor           -0.797596 -0.210738\n",
            "BC_Max_BC_Max_medio           -0.054322 -0.003045\n",
            "BC_Max_BC_Max_maior            0.987867  0.235802\n",
            "Angina_Exerc_Nao               0.548926  0.146694\n",
            "Angina_Exerc_Sim              -0.845825 -0.227654\n",
            "Doença_Card_Nao                0.870115  0.120520\n",
            "Doença_Card_Sim               -0.728908 -0.105573\n"
          ]
        }
      ]
    },
    {
      "cell_type": "markdown",
      "source": [
        "Obtendo as coordenadas de cada um das observações\n"
      ],
      "metadata": {
        "id": "ib1e4sbWKIsk"
      }
    },
    {
      "cell_type": "code",
      "source": [
        "print(mca.row_coordinates(dados))"
      ],
      "metadata": {
        "colab": {
          "base_uri": "https://localhost:8080/"
        },
        "id": "XBPO4yC5KALI",
        "outputId": "dbf173f4-3111-4414-f3ff-34255f2c3d9b"
      },
      "execution_count": 16,
      "outputs": [
        {
          "output_type": "stream",
          "name": "stdout",
          "text": [
            "            0         1\n",
            "0    0.811345 -0.146841\n",
            "1    0.188102  0.271757\n",
            "2    0.337304 -0.087560\n",
            "3   -0.316668 -0.247014\n",
            "4    0.302958  0.117845\n",
            "..        ...       ...\n",
            "913  0.296685  0.005123\n",
            "914 -0.483986  0.273281\n",
            "915 -0.520603 -0.554249\n",
            "916  0.569250  0.374055\n",
            "917  0.754091 -0.152379\n",
            "\n",
            "[918 rows x 2 columns]\n"
          ]
        }
      ]
    },
    {
      "cell_type": "markdown",
      "source": [
        "Obtendo os eigenvalues"
      ],
      "metadata": {
        "id": "JVp8jw51KQzF"
      }
    },
    {
      "cell_type": "code",
      "source": [
        "print(mca.eigenvalues_)"
      ],
      "metadata": {
        "colab": {
          "base_uri": "https://localhost:8080/"
        },
        "id": "nAo7_7_VKSC0",
        "outputId": "3fb609bc-a71e-4f13-c9bb-3879e4a097e3"
      },
      "execution_count": 17,
      "outputs": [
        {
          "output_type": "stream",
          "name": "stdout",
          "text": [
            "[0.284316226828562, 0.13626005688095053]\n"
          ]
        }
      ]
    },
    {
      "cell_type": "markdown",
      "source": [
        "Inércia principal total"
      ],
      "metadata": {
        "id": "r_-fPZtWKUc0"
      }
    },
    {
      "cell_type": "code",
      "source": [
        "print(mca.total_inertia_)"
      ],
      "metadata": {
        "colab": {
          "base_uri": "https://localhost:8080/"
        },
        "id": "6sekGPkbKT3-",
        "outputId": "c0d8f6a9-c0da-410b-8f1a-371a70eb9856"
      },
      "execution_count": 18,
      "outputs": [
        {
          "output_type": "stream",
          "name": "stdout",
          "text": [
            "1.7\n"
          ]
        }
      ]
    },
    {
      "cell_type": "markdown",
      "source": [
        "Obtendo a variância"
      ],
      "metadata": {
        "id": "xN-yIx9uKZ5D"
      }
    },
    {
      "cell_type": "code",
      "source": [
        "print(mca.explained_inertia_)"
      ],
      "metadata": {
        "colab": {
          "base_uri": "https://localhost:8080/"
        },
        "id": "xYyUgvDUKbBh",
        "outputId": "2956062e-f934-40a8-921c-5c4f9ff1de58"
      },
      "execution_count": 19,
      "outputs": [
        {
          "output_type": "stream",
          "name": "stdout",
          "text": [
            "[0.16724483931091882, 0.08015297463585325]\n"
          ]
        }
      ]
    },
    {
      "cell_type": "code",
      "source": [
        "\n",
        "mp_mca = mca.plot_coordinates(\n",
        "             X = dados,\n",
        "             figsize=(14,14),\n",
        "             show_row_points = False,\n",
        "             show_column_points = True,\n",
        "             show_row_labels=False,\n",
        "             column_points_size = 100,\n",
        "             show_column_labels = True,\n",
        "             legend_n_cols = 2)"
      ],
      "metadata": {
        "colab": {
          "base_uri": "https://localhost:8080/",
          "height": 839
        },
        "id": "HbExOC7JKe2E",
        "outputId": "8d219fc3-0a03-4ca8-8fed-afffc7692a97"
      },
      "execution_count": 20,
      "outputs": [
        {
          "output_type": "display_data",
          "data": {
            "text/plain": [
              "<Figure size 1008x1008 with 1 Axes>"
            ],
            "image/png": "[encoded data removed]"
          },
          "metadata": {
            "needs_background": "light"
          }
        }
      ]
    },
    {
      "cell_type": "code",
      "source": [
        "#Plotando o mapa perceptual interativo\n",
        "\n",
        "import plotly.graph_objects as go\n",
        "import plotly.io as pio\n",
        "\n",
        "\n",
        "\n",
        "chart_df = pd.DataFrame({'obs_x':mca.row_coordinates(dados)[0],\n",
        "                         'pacientes':dados.index,\n",
        "                         'obs_y': mca.row_coordinates(dados)[1]})\n",
        "\n",
        "fig = go.Figure(data=go.Scatter(x=chart_df['obs_x'],\n",
        "                                y=chart_df['obs_y'],\n",
        "                                mode='markers',\n",
        "                                name=\"Pacientes\",\n",
        "                                text=chart_df['pacientes']))\n",
        "\n",
        "fig.add_trace(go.Scatter(\n",
        "    x=mca.column_coordinates(dados)[0],\n",
        "    mode='markers+text',\n",
        "    name=\"Associação\",\n",
        "    marker={'size':12},\n",
        "    y=mca.column_coordinates(dados)[1],\n",
        "    textposition=\"top center\",\n",
        "    text=mca.column_coordinates(dados).index\n",
        "))\n",
        "\n",
        "fig.update_layout(\n",
        "    autosize=False,\n",
        "    width=800,\n",
        "    height=800,\n",
        "    title_text='Mapa perceptual'\n",
        ")\n",
        "\n",
        "fig.show()\n"
      ],
      "metadata": {
        "colab": {
          "base_uri": "https://localhost:8080/",
          "height": 817
        },
        "id": "17mMYTZMLUDP",
        "outputId": "38a4e813-f6b2-4e4a-d174-26c4b7fad6e9"
      },
      "execution_count": 22,
      "outputs": [
        {
          "output_type": "display_data",
          "data": {
            "text/html": [
              "<html>\n",
              "<head><meta charset=\"utf-8\" /></head>\n",
              "<body>\n",
              "    <div>            <script src=\"https://cdnjs.cloudflare.com/ajax/libs/mathjax/2.7.5/MathJax.js?config=TeX-AMS-MML_SVG\"></script><script type=\"text/javascript\">if (window.MathJax) {MathJax.Hub.Config({SVG: {font: \"STIX-Web\"}});}</script>                <script type=\"text/javascript\">window.PlotlyConfig = {MathJaxConfig: 'local'};</script>\n",
              "        <script src=\"https://cdn.plot.ly/plotly-2.8.3.min.js\"></script>                <div id=\"2678ae23-534d-465e-abf2-ab2314b642a5\" class=\"plotly-graph-div\" style=\"height:800px; width:800px;\"></div>            <script type=\"text/javascript\">                                    window.PLOTLYENV=window.PLOTLYENV || {};                                    if (document.getElementById(\"2678ae23-534d-465e-abf2-ab2314b642a5\")) {                    Plotly.newPlot(                        \"2678ae23-534d-465e-abf2-ab2314b642a5\",                        [{\"mode\":\"markers\",\"name\":\"Pacientes\",\"text\":[0.0,1.0,2.0,3.0,4.0,5.0,6.0,7.0,8.0,9.0,10.0,11.0,12.0,13.0,14.0,15.0,16.0,17.0,18.0,19.0,20.0,21.0,22.0,23.0,24.0,25.0,26.0,27.0,28.0,29.0,30.0,31.0,32.0,33.0,34.0,35.0,36.0,37.0,38.0,39.0,40.0,41.0,42.0,43.0,44.0,45.0,46.0,47.0,48.0,49.0,50.0,51.0,52.0,53.0,54.0,55.0,56.0,57.0,58.0,59.0,60.0,61.0,62.0,63.0,64.0,65.0,66.0,67.0,68.0,69.0,70.0,71.0,72.0,73.0,74.0,75.0,76.0,77.0,78.0,79.0,80.0,81.0,82.0,83.0,84.0,85.0,86.0,87.0,88.0,89.0,90.0,91.0,92.0,93.0,94.0,95.0,96.0,97.0,98.0,99.0,100.0,101.0,102.0,103.0,104.0,105.0,106.0,107.0,108.0,109.0,110.0,111.0,112.0,113.0,114.0,115.0,116.0,117.0,118.0,119.0,120.0,121.0,122.0,123.0,124.0,125.0,126.0,127.0,128.0,129.0,130.0,131.0,132.0,133.0,134.0,135.0,136.0,137.0,138.0,139.0,140.0,141.0,142.0,143.0,144.0,145.0,146.0,147.0,148.0,149.0,150.0,151.0,152.0,153.0,154.0,155.0,156.0,157.0,158.0,159.0,160.0,161.0,162.0,163.0,164.0,165.0,166.0,167.0,168.0,169.0,170.0,171.0,172.0,173.0,174.0,175.0,176.0,177.0,178.0,179.0,180.0,181.0,182.0,183.0,184.0,185.0,186.0,187.0,188.0,189.0,190.0,191.0,192.0,193.0,194.0,195.0,196.0,197.0,198.0,199.0,200.0,201.0,202.0,203.0,204.0,205.0,206.0,207.0,208.0,209.0,210.0,211.0,212.0,213.0,214.0,215.0,216.0,217.0,218.0,219.0,220.0,221.0,222.0,223.0,224.0,225.0,226.0,227.0,228.0,229.0,230.0,231.0,232.0,233.0,234.0,235.0,236.0,237.0,238.0,239.0,240.0,241.0,242.0,243.0,244.0,245.0,246.0,247.0,248.0,249.0,250.0,251.0,252.0,253.0,254.0,255.0,256.0,257.0,258.0,259.0,260.0,261.0,262.0,263.0,264.0,265.0,266.0,267.0,268.0,269.0,270.0,271.0,272.0,273.0,274.0,275.0,276.0,277.0,278.0,279.0,280.0,281.0,282.0,283.0,284.0,285.0,286.0,287.0,288.0,289.0,290.0,291.0,292.0,293.0,294.0,295.0,296.0,297.0,298.0,299.0,300.0,301.0,302.0,303.0,304.0,305.0,306.0,307.0,308.0,309.0,310.0,311.0,312.0,313.0,314.0,315.0,316.0,317.0,318.0,319.0,320.0,321.0,322.0,323.0,324.0,325.0,326.0,327.0,328.0,329.0,330.0,331.0,332.0,333.0,334.0,335.0,336.0,337.0,338.0,339.0,340.0,341.0,342.0,343.0,344.0,345.0,346.0,347.0,348.0,349.0,350.0,351.0,352.0,353.0,354.0,355.0,356.0,357.0,358.0,359.0,360.0,361.0,362.0,363.0,364.0,365.0,366.0,367.0,368.0,369.0,370.0,371.0,372.0,373.0,374.0,375.0,376.0,377.0,378.0,379.0,380.0,381.0,382.0,383.0,384.0,385.0,386.0,387.0,388.0,389.0,390.0,391.0,392.0,393.0,394.0,395.0,396.0,397.0,398.0,399.0,400.0,401.0,402.0,403.0,404.0,405.0,406.0,407.0,408.0,409.0,410.0,411.0,412.0,413.0,414.0,415.0,416.0,417.0,418.0,419.0,420.0,421.0,422.0,423.0,424.0,425.0,426.0,427.0,428.0,429.0,430.0,431.0,432.0,433.0,434.0,435.0,436.0,437.0,438.0,439.0,440.0,441.0,442.0,443.0,444.0,445.0,446.0,447.0,448.0,449.0,450.0,451.0,452.0,453.0,454.0,455.0,456.0,457.0,458.0,459.0,460.0,461.0,462.0,463.0,464.0,465.0,466.0,467.0,468.0,469.0,470.0,471.0,472.0,473.0,474.0,475.0,476.0,477.0,478.0,479.0,480.0,481.0,482.0,483.0,484.0,485.0,486.0,487.0,488.0,489.0,490.0,491.0,492.0,493.0,494.0,495.0,496.0,497.0,498.0,499.0,500.0,501.0,502.0,503.0,504.0,505.0,506.0,507.0,508.0,509.0,510.0,511.0,512.0,513.0,514.0,515.0,516.0,517.0,518.0,519.0,520.0,521.0,522.0,523.0,524.0,525.0,526.0,527.0,528.0,529.0,530.0,531.0,532.0,533.0,534.0,535.0,536.0,537.0,538.0,539.0,540.0,541.0,542.0,543.0,544.0,545.0,546.0,547.0,548.0,549.0,550.0,551.0,552.0,553.0,554.0,555.0,556.0,557.0,558.0,559.0,560.0,561.0,562.0,563.0,564.0,565.0,566.0,567.0,568.0,569.0,570.0,571.0,572.0,573.0,574.0,575.0,576.0,577.0,578.0,579.0,580.0,581.0,582.0,583.0,584.0,585.0,586.0,587.0,588.0,589.0,590.0,591.0,592.0,593.0,594.0,595.0,596.0,597.0,598.0,599.0,600.0,601.0,602.0,603.0,604.0,605.0,606.0,607.0,608.0,609.0,610.0,611.0,612.0,613.0,614.0,615.0,616.0,617.0,618.0,619.0,620.0,621.0,622.0,623.0,624.0,625.0,626.0,627.0,628.0,629.0,630.0,631.0,632.0,633.0,634.0,635.0,636.0,637.0,638.0,639.0,640.0,641.0,642.0,643.0,644.0,645.0,646.0,647.0,648.0,649.0,650.0,651.0,652.0,653.0,654.0,655.0,656.0,657.0,658.0,659.0,660.0,661.0,662.0,663.0,664.0,665.0,666.0,667.0,668.0,669.0,670.0,671.0,672.0,673.0,674.0,675.0,676.0,677.0,678.0,679.0,680.0,681.0,682.0,683.0,684.0,685.0,686.0,687.0,688.0,689.0,690.0,691.0,692.0,693.0,694.0,695.0,696.0,697.0,698.0,699.0,700.0,701.0,702.0,703.0,704.0,705.0,706.0,707.0,708.0,709.0,710.0,711.0,712.0,713.0,714.0,715.0,716.0,717.0,718.0,719.0,720.0,721.0,722.0,723.0,724.0,725.0,726.0,727.0,728.0,729.0,730.0,731.0,732.0,733.0,734.0,735.0,736.0,737.0,738.0,739.0,740.0,741.0,742.0,743.0,744.0,745.0,746.0,747.0,748.0,749.0,750.0,751.0,752.0,753.0,754.0,755.0,756.0,757.0,758.0,759.0,760.0,761.0,762.0,763.0,764.0,765.0,766.0,767.0,768.0,769.0,770.0,771.0,772.0,773.0,774.0,775.0,776.0,777.0,778.0,779.0,780.0,781.0,782.0,783.0,784.0,785.0,786.0,787.0,788.0,789.0,790.0,791.0,792.0,793.0,794.0,795.0,796.0,797.0,798.0,799.0,800.0,801.0,802.0,803.0,804.0,805.0,806.0,807.0,808.0,809.0,810.0,811.0,812.0,813.0,814.0,815.0,816.0,817.0,818.0,819.0,820.0,821.0,822.0,823.0,824.0,825.0,826.0,827.0,828.0,829.0,830.0,831.0,832.0,833.0,834.0,835.0,836.0,837.0,838.0,839.0,840.0,841.0,842.0,843.0,844.0,845.0,846.0,847.0,848.0,849.0,850.0,851.0,852.0,853.0,854.0,855.0,856.0,857.0,858.0,859.0,860.0,861.0,862.0,863.0,864.0,865.0,866.0,867.0,868.0,869.0,870.0,871.0,872.0,873.0,874.0,875.0,876.0,877.0,878.0,879.0,880.0,881.0,882.0,883.0,884.0,885.0,886.0,887.0,888.0,889.0,890.0,891.0,892.0,893.0,894.0,895.0,896.0,897.0,898.0,899.0,900.0,901.0,902.0,903.0,904.0,905.0,906.0,907.0,908.0,909.0,910.0,911.0,912.0,913.0,914.0,915.0,916.0,917.0],\"x\":[0.8113452748709156,0.18810239117957978,0.3373044294587185,-0.31666789215879265,0.3029578709518543,0.7596913642143702,1.0524788687546534,0.5803920143267279,-0.20899253876710408,0.5699209553366046,0.7436650279369843,-0.34026485413420243,0.7337009584441071,-0.3623014828844832,0.6661794661281443,0.7093163087788379,0.30974223720806104,1.114184350763904,-0.039021155061191096,0.6292709826557819,0.7815980146833598,0.7337009584441071,0.8991699246372742,-0.04793771173502444,0.5586360837690605,0.7540905319209336,-0.34100345620460876,0.3848920111686807,0.7093163087788379,0.5186865323174773,-0.05303120270415801,0.24702606677233227,-0.10072663707044173,-0.10551445620826913,0.7546551519029532,0.6719954764348564,-0.8386920266401715,0.7795388587939401,0.4586011365312988,0.02024261652381198,0.601346207785574,-0.30579423291077257,0.7650806558869024,0.4615905439854638,-0.2866824102000868,-0.051747709320407294,0.6096266611482595,0.7141409804693504,0.7596913642143702,0.2536375874922472,-0.3623014828844832,-0.10165346603216294,0.5043666982895941,0.8570244206027802,0.12261188522363904,0.7968006559374471,-0.20339170647366736,-0.03374832810660773,-0.09850717536397496,-0.6352870478513705,0.775846462478601,0.8367502073890303,0.3524667309871358,-0.20339170647366736,0.7654209584946517,0.9187299026120308,0.4813910254392458,0.9291554065959802,-0.7432571488446342,0.3894472607233679,-0.1819637812548533,0.6719954764348564,-0.039021155061191096,0.3206147599039863,-0.41840613260029713,0.2979657421898843,0.058183139340374126,0.5185899557179439,0.23820596706632,0.09472781108143134,0.6063824200969912,0.5803920143267279,-0.45575302166488085,0.6117717117695233,-0.6322995297295726,-0.6338643182162111,-0.8849566456241846,0.4421406306713596,0.10138895304133287,-0.2018124123865181,0.9608754066465248,0.2963620812713219,0.7654209584946517,-0.6601707547423574,0.8616339142800173,-0.3623014828844832,0.5696262077350294,0.4651867656387284,0.2419575494418915,0.6158908267190425,-0.8102542923129998,0.0597624334275234,0.07913733279922029,-0.37102048461892967,0.11428778905618804,0.35105775417221496,0.1673058157866072,0.6258896120688117,0.18025206743264088,0.43023085429279606,0.7037154764854011,-0.6040661050265436,-0.13284154268798193,0.6158908267190425,0.4511650400015146,0.03774188741007038,0.2536375874922472,-0.5401970103957263,0.8189556995800263,0.4115278932807442,0.47160627400339666,0.5342514341037913,0.27498116917829574,-0.15561306512671305,0.5186865323174773,0.44099666088449463,1.0335731493175375,0.6224409417616884,0.5977921803493894,0.3587667199642696,0.40016216535341953,-0.14728705675785347,-0.6599664451182148,-0.6038617954024009,-0.3253409242048776,0.36260264587260665,0.9749933069458132,0.5945099146260164,-0.5206025557638323,-0.31136180746693115,-0.6601707547423574,-0.5575971764183878,-0.31120305284896266,0.1991577868697567,0.4094318848386395,0.35806756328057254,0.7337009584441071,0.9749933069458132,0.7569407430414852,-0.5860349107455595,0.532600122992623,0.4220909414473788,0.6158908267190425,0.2047586191631934,0.7338597130620755,-0.6884041794453865,-0.14728705675785347,0.1991577868697567,-0.4044925419251513,0.27712621979955954,-0.6993609428385424,-0.5016968363267165,0.7650806558869024,0.7337009584441071,0.7037154764854011,0.2067001848567837,-0.5014925267025739,0.379291178875244,0.0597624334275234,0.6007815878035544,0.9291554065959802,0.7540905319209336,0.6580363307535364,0.6007815878035544,-0.3623014828844832,-0.265097188482918,-0.24012199051267502,0.4625818826016634,0.5586360837690605,0.39810032171282633,-0.5016968363267165,0.5186865323174773,-0.41840613260029713,0.01340632336425426,0.5452415580697602,-0.4431417283939304,0.379291178875244,-0.31491583490311575,-0.011182635925157506,-0.7993617985604481,-0.08459358468882916,0.13773086635732626,0.7141409804693504,0.4192407303268272,1.0524788687546534,0.21155720396229094,0.2047586191631934,0.5135215580192154,-0.4399913543174659,0.3710835853986828,0.5965690705154358,0.6203415657783111,0.4373610956321176,0.7795388587939401,0.379291178875244,-0.16478632764411189,0.8430154285136026,0.4338165345039087,0.81850887678305,-0.10072663707044173,-0.3460452866486867,-0.027207835650448556,0.087647644121826,0.6466194881533875,-0.45075716090916446,0.6737866683080644,0.058183139340374126,0.467032621660932,0.5186865323174773,0.8674499245867294,-0.0868130463952959,-0.33574645713220036,0.6520615658288559,0.7596913642143702,0.4127632361814656,-0.20309590577026881,0.467032621660932,-0.16619277619496928,0.8730507568801662,0.5748533600517262,0.491816529423195,0.6979858822051196,0.8626252528962169,0.41417221299638646,0.5084197829514965,0.6675805607819386,-0.34278705991590064,0.02556557073279385,-0.6601707547423574,-0.6040661050265436,0.36021261390183634,-0.4646707515843103,-0.36887543399766587,0.7793345491697976,-0.6601707547423574,0.424354406960941,-0.09442664809330789,-0.72522595456365,-0.3481835825851948,-0.5578014860425304,-0.003522342668876509,-0.1784165085034244,-0.5103698683728015,0.34932012014928465,-0.6040661050265436,0.5959569161130419,0.6175754984030235,0.6328155437839906,0.3485914616775449,0.6476108267695871,0.549770429056874,0.7654209584946517,-0.2866824102000868,-0.11963235650755755,-0.0028231859851794035,0.5556670620537094,-0.5578014860425304,0.7337009584441071,-0.5016968363267165,0.7436650279369843,0.41417221299638646,1.114184350763904,-0.3623014828844832,0.4369972932943683,0.8940049503390123,0.16356251750962103,0.08653699627436716,-0.4646707515843103,-0.17505307701009265,0.5645244326673104,0.4369972932943683,-0.20309590577026881,0.5242356861574368,0.7655797131126203,0.491816529423195,0.5126662123866226,0.18025206743264088,0.5803920143267279,0.5084197829514965,0.9102496871588643,0.467032621660932,0.8570244206027802,0.1991577868697567,-0.6693986355390451,0.08872245912742133,-0.8556528334782255,-0.7572279832720762,-0.7295794200598684,-0.43916771318220293,-0.26859743124717883,-0.466589265700919,0.3669887036489895,-0.5077293598591481,-0.649838107042596,-0.28428398713527714,-0.3693349889642967,-0.28428398713527714,0.21210497760206368,-0.28428398713527714,-0.0671123780776404,-0.07297655499749464,-0.5077293598591481,0.03466924648694684,-0.11394071589374476,-0.055463591278144625,-0.39206044439286214,-0.05520692848869412,-0.6434843513833794,-0.6335757625840134,-0.5924356684257843,0.09340303389199747,-0.5650141159070683,0.30881860890602963,-0.7007691074312996,-0.26859743124717883,-0.4045794334649019,0.6345954561811279,-0.7983680774303054,-0.7298064307533602,-0.7981410667368135,-0.05520692848869412,-0.593824428535637,0.8517670652387647,-0.26859743124717883,-0.13567402475458556,-0.240839801912936,-0.03215580947179714,-0.7470923837792184,-0.5120646236110472,-0.2045426741180048,-0.11394071589374476,-0.8556528334782255,-0.5650141159070683,-0.5077293598591481,-0.43916771318220293,-0.2924378385979072,-0.25291351524302264,-0.28428398713527714,-0.8926169975694244,-0.4045794334649019,-0.43916771318220293,-0.44154359755610084,-0.6982089481676139,-0.7667705948445591,-0.4075702305964567,-0.23689088253939755,-0.37320896157264744,0.10211842414333355,0.010751823120861375,-0.02383645659643962,-0.6226268554581039,-0.40063051409136347,-0.36079845051551557,-0.2526865045495309,0.3093684588926697,-0.4912324723156235,-0.851703914104687,-0.8926169975694244,-0.612113879491125,-0.851703914104687,-0.612113879491125,-0.851703914104687,-0.851703914104687,-0.612113879491125,-0.7379602822159902,-0.12617341145131744,-0.3264371814917063,-0.7470923837792184,-0.552159145050608,-0.543325222120688,-0.8805142267332557,-0.5435522328141797,-0.21832523552572158,0.27790119778757316,-0.0980297891960968,-0.851703914104687,-0.5555142401382893,-0.4906027405181588,-0.3214751619199678,-0.7470923837792184,-0.3214751619199678,-0.8240553508924793,-0.4806941517187927,-0.7417684380774696,-0.9121117093190021,-0.1825023625706899,-0.07044114577378387,-1.066768424672436,-0.7572279832720762,-0.6728990511795612,-0.4158852760057072,-0.29033074010801957,-0.9019761098261442,-0.6434843513833794,-0.3303861008652448,-0.4045794334649019,-0.7983680774303054,-0.8556528334782255,-0.43916771318220293,-0.5615235116994528,-0.9019761098261442,-0.466589265700919,-0.7983680774303054,-0.2786523012125651,-0.7983680774303054,-0.5417316787305725,-0.7541496425971859,0.2132756871690451,-0.5014925267025739,-0.6038617954024009,-0.2448634465595475,0.028865340814370307,-1.0241476894422754,-0.1633485265506376,-0.34584564605985124,0.005067465865971884,0.36058976906227075,-0.7667705948445591,-0.6693986355390451,-0.5422558106433668,-0.7981410667368135,-0.1309848908336954,-0.7173278674789223,-0.14728705675785347,-0.26877336450915784,-0.5473093112441464,-0.0980297891960968,-0.7196708312605024,-0.6635399389228414,0.11496040949085926,0.12500051647774368,-0.6333487518905216,-0.7981410667368135,-0.6691213048478362,-0.4588970737545817,-0.2953231739206492,-0.7667705948445591,-0.7730553620343017,-0.8849566456241846,0.067651278441554,-0.38303682084454194,-0.8514769034111953,-0.6969925298606211,-0.055463591278144625,-0.5299302610297455,-0.39242558519722065,-0.4403215768924621,0.03466924648694684,-0.7882324779374474,0.09597795613418494,-0.8646213080058833,-0.7379602822159902,-0.5016968363267165,0.01172975356914152,-0.2281530947976161,0.7540905319209336,-0.31424816347410506,0.601386732019696,-0.8754246307341288,0.546512202324088,-0.3214751619199678,-0.5830765561690643,-0.9118846986255104,-0.6214258704815525,0.3957990162775583,-0.9454842963929617,0.001493680357930678,-0.8556528334782255,-0.72522595456365,-0.37526931376027245,-0.44333613804394906,-0.5591554192908644,-0.3576942385646743,-0.5769248198881394,-0.7379602822159902,-0.46285432185249437,0.469026640515248,-0.5014925267025739,0.2682928819364274,-0.3623014828844832,-0.3470837639879199,-0.7625728436282337,-0.11858497620530993,-0.2122367798183724,-0.6040661050265436,-0.4490082195845791,-0.16397099443355284,-0.577932514036689,-0.940856985715856,-0.5316678950526759,-0.475563245336862,-0.5316678950526759,-0.6147542891549527,-0.10766203509359629,-0.8849566456241846,-0.46295195206591155,-0.6149585987790953,0.21937136652203634,-0.41013038986014244,-0.1784165085034244,0.1991577868697567,-1.0241476894422754,0.40053932051385394,-0.37065194962665254,-0.1511318906784354,0.1461048313028074,-0.27781709358598516,-0.7173278674789223,-0.6553860874602112,-0.6091534568615159,-0.05329501940071275,-0.6091534568615159,-0.6902060831089212,-0.5206025557638323,-0.06130824508527689,0.5586360837690605,-0.8034678455612999,0.34932012014928465,-0.17503784953967433,-0.7173278674789223,-0.3623014828844832,-1.0802523391580892,-0.4852363304667774,-0.553048807145702,-0.3623014828844832,-0.4906027405181588,-0.8497941368620217,-0.8847523360000421,-0.6693256144719788,0.09143258707021032,-0.40858493637302795,-0.13444996597755793,-0.37277254187460657,-0.7171235578547797,-0.03424991308432863,0.003862093335852075,-0.005922658099996967,-0.5801759861091843,-0.15228291751356982,-0.03852694002692559,-0.3424912592125021,0.1843401773997563,-0.5111585146969976,-0.7025597881051351,0.1915924971403744,-0.5370877960627095,-0.6411768713998002,-0.46295195206591155,-0.2953231739206492,-0.6710632484949092,0.26613609583359066,0.3794954884993866,-0.1185217086600987,-0.6691213048478362,-0.6321407751116042,-0.9126235610128268,-0.030383102963848555,-0.7541496425971859,-0.34278705991590064,-0.6040661050265436,-0.6408878801448071,-0.8014930963614734,-0.7171235578547797,-0.5329274941715894,-1.0241476894422754,-0.5860349107455595,-0.7730553620343017,-0.7734325171947362,-0.653007152830223,-1.0802523391580892,-0.5788713088334251,-0.16684703473261014,-0.8126227052909213,0.10355613041709796,-1.0241476894422754,-0.3858869854439484,-0.3623014828844832,0.7857606855636204,-0.6147542891549527,-0.31484317832839137,0.24732800660989201,-0.01772312838131668,-0.8317012702643289,-0.41165250603464654,-0.8017302115383695,-0.5599655893963092,-0.2701573188792387,0.26613609583359066,-0.3306313292417963,-0.40775076865793736,-0.34100345620460876,-0.32549854227075115,-0.4031884137037338,-0.7734325171947362,-0.13713824676000114,0.10883275309287188,-1.0241476894422754,-0.8275952232634772,-0.7360292772918955,-0.003522342668876509,-0.2786221645816848,0.11019611868122092,-0.546941812476028,-0.05461096935788324,-0.26375969968868773,-0.4395237310474314,0.6481142734459725,0.21880210837727887,-0.3150741748388969,0.3044443721458539,0.14760150642662861,-0.35379623661438453,-0.3306313292417963,0.00858783299905373,-0.21746870213710132,0.39461223502162973,-0.3342170094529089,0.7240552035543698,-0.031591542003770984,0.493501201107176,0.3137247311574366,-0.4044925419251513,-0.5599655893963092,0.03838818976507289,0.4687431908440169,-0.443893091694175,0.6841056521027866,0.5535220114324456,0.41417221299638646,0.38382632259559274,0.5342514341037913,0.24588550097445447,0.7613760358983513,0.33256731750604296,0.3411356968646511,0.0754073873449193,-0.04650857264901282,1.0008249580981081,-0.5508107296666879,-0.494706079950874,-0.5599655893963092,-0.5055985737034256,-0.10683902633359689,0.5586360837690605,0.3645769066550661,0.14566748649898342,0.46637941673717487,0.49251568610689206,0.5660721802988448,-0.062186062433779346,0.4031174812917284,0.11820714991705412,0.27970690884149735,-0.3977991220312017,-0.3007594058635207,-0.265097188482918,0.546512202324088,0.41878001329145964,0.7859081621848955,1.0224435403880896,1.114184350763904,-0.5245042931405415,0.3450374342413603,-0.27964180741638645,-0.05828950359046012,0.31187782152134924,-0.2333771884323733,0.8157960139301842,0.6596687680087759,-0.03174049327522566,-0.6902060831089212,0.10300206084102459,0.1500622963175628,0.8053705099462349,0.3204571418381127,-0.4138577633276113,0.3236671656689488,0.27302017279870777,0.19850792410690252,0.33263045059455243,-0.39750178554930876,0.12256203881578125,1.0008249580981081,1.0008249580981081,0.775846462478601,-0.3424912592125021,-0.14728705675785347,-0.6902060831089212,0.7240552035543698,-0.0007115769350341571,0.5979134395916675,0.20776066335327253,0.19304539760660153,0.9963742190388393,-0.2331312341368325,0.45256613465530887,0.08035501471459884,-0.5317321646932802,-0.4700266826840296,0.09472781108143134,-0.37282238828246433,0.06146152834425097,-0.039021155061191096,0.4209896716514126,0.9608754066465248,0.9819192386609922,-0.2916782709558031,0.5235365294737396,-0.45686466199790876,-0.2440237278893842,0.00858783299905373,0.20545777584689054,0.14735215818296443,-0.16684703473261014,0.8998241831749151,-0.6143328543925244,0.7337009584441071,0.0912475084671505,0.562077104110402,0.8730507568801662,0.8430652749214602,0.08425246068962432,-0.5334105636440264,0.21155720396229094,-0.7554655925543564,0.16714819772073358,-0.5878368144090941,-0.6601707547423574,0.2885850745850218,0.31918716156930377,0.6834412632716512,-0.5532531167698446,0.7557752036049146,0.7141409804693504,-0.2727703308686218,-0.08947902072362832,-0.443893091694175,0.5479211791390088,-0.5832884451364083,0.4683769907371637,0.5451400332084251,0.5140748511034585,-0.5599655893963092,1.114184350763904,0.13303738920758829,-0.34639299658921124,0.3084722569392521,0.300897163863356,0.08994447020820102,0.2257473097469473,-0.5578014860425304,0.156433293090682,-0.33562345800376625,0.2708618354967923,0.6531101342016888,0.8157960139301842,0.847516013980729,0.8174806856141652,0.21482031886948788,0.5603207554530415,1.114184350763904,-0.5016968363267165,0.7813099465043518,0.6086792461833661,-0.3650778998621544,0.23056424891306898,-0.3929035698687652,0.5186865323174773,-0.3923368112510469,0.6096266611482595,-0.14912379564438066,0.6113113328322405,0.20766303313985537,0.24588550097445447,-0.08990585007953784,-0.03174049327522566,-0.03785437510745947,-0.4999977414099889,0.3693691215676801,0.7619881903007453,-0.3920882366582062,-0.41840613260029713,0.15638239112903501,-0.18616272951620974,0.6007815878035544,0.6481672357849219,-0.26341251679893696,0.2608011894043816,0.5691658287977466,0.4031174812917284,0.6979858822051196,-0.5317321646932802,0.09323449073374501,0.38023943865479726,-0.5672631644128115,0.39461223502162973,-0.577932514036689,0.524287364610914,-0.2951325168494817,0.43315280965829217,0.8691345962707104,0.41585688468036747,0.847516013980729,0.4533218261043513,-0.3662487752673665,0.29766620949273936,0.00858783299905373,-0.3923368112510469,-0.22295168444842403,-0.5508107296666879,0.25090639597977593,0.791411364264915,0.17542244748032684,-0.32549854227075115,0.7540905319209336,0.08861542181827618,0.4031174812917284,0.9391194760888574,-0.3923368112510469,0.8374145962201658,1.0224435403880896,0.6425134411525358,0.20545777584689054,0.4369972932943683,0.9291554065959802,-0.3005960008752326,-0.2440237278893842,0.4795065996666116,-0.7293320015645018,0.7329501233069327,0.6719954764348564,0.03781454398479479,-0.27773235082682013,0.4059000117811361,0.6086792461833661,-0.4790435479511428,0.11428778905618804,0.5795913327816957,-0.16684703473261014,0.29206537719930264,-0.1802697718584032,0.5496058508229898,-0.3167177385666505,0.5286007554024967,0.719741812762787,-0.6255319174824042,0.667950553838556,0.35415140267111683,0.08035501471459884,0.5042161057372276,-0.3623014828844832,0.013136202271739545,0.3186204029515855,0.0754073873449193,-0.5508107296666879,-0.1784165085034244,0.8374145962201658,0.02814781097381043,0.467032621660932,0.33078354095846507,0.6274342437692544,-0.23950751545982824,-0.41840613260029713,0.13153075169516337,0.44555191043918185,0.791411364264915,-0.3923368112510469,0.389822060456025,0.7141409804693504,0.47596203853840263,0.33078354095846507,0.9291554065959802,0.6175754984030235,0.1991577868697567,-0.8034678455612999,0.42092540201080825,0.6007815878035544,-0.4066566452789301,-0.5299302610297455,0.2771246686004808,0.13588828487003668,0.2885850745850218,0.7436650279369843,0.28185195946276115,0.38418673103768053,-0.3567006505910465,0.7540905319209336,-0.31646358253465007,0.8674499245867294,-0.12090322007077446,-0.23431684859509572,-0.4773059139282125,0.5186865323174773,0.6841056521027866,0.775846462478601,-0.14022364380728652,0.8430652749214602,-0.16619277619496928,-0.5055985737034256,-0.29053430116893814,0.9102496871588643,-0.5401553657243281,-0.17727253871655937,0.29668464657523747,-0.4839864463679099,-0.5206025557638323,0.5692501723305121,0.7540905319209336],\"y\":[-0.14684121251325963,0.2717573115092298,-0.08756005661919587,-0.24701388080550776,0.11784452245146185,-0.1503167109567349,-0.07943930683732724,-0.38192038282205165,-0.5289954920687182,-0.07526219144771747,-0.0019212276886068295,-0.3669714404164033,-0.505004384019895,-0.4059114908708748,0.03263122753279389,-0.018997314528184837,-0.5085766344620671,-0.22513739073225916,-0.45019713956695995,-0.5015495756442905,0.2815354391690693,-0.505004384019895,0.0436446943605162,-0.16236361601484953,-0.21708371467350643,-0.15237920837077015,-0.22067613074694306,-0.2904246784326171,-0.018997314528184837,-0.23622229892711968,0.20435540583329734,-0.2423372609553008,-0.304499055672028,-0.3394051883136439,0.06770042278706134,-0.3593063001249631,0.05152047264339416,-0.10959135791866277,0.13025203146136569,0.08234492996828134,0.1907844239849048,0.23024688388902537,-0.08275755789510202,0.15095533194340593,-0.7309584528831827,-0.10391644428507522,-0.4473269365349355,-0.1715177926243834,-0.1503167109567349,-0.3608160531530999,-0.4059114908708748,-0.5157959658982832,-0.24254691194277803,-0.1441438131400635,-0.12949930595884349,0.255488930287641,-0.526932994654683,0.02500112771353798,0.29660599860752834,-0.2798633312600395,-0.3172158765193154,0.2746275145412543,-0.3663333589427398,-0.526932994654683,-0.166757895837152,-0.28984189703499547,-0.0034102906488729734,-0.44029987771715884,-0.07008159274694989,0.05797596459608852,-0.21863389293676544,-0.3593063001249631,-0.45019713956695995,-0.17288329365597205,-0.2581509095619076,-0.15357702622601935,-0.42552055945583617,-0.2432435425179453,-0.42970740468607166,-0.23979454936929173,-0.027232709758891492,-0.38192038282205165,0.10025717427821361,0.04032644330274143,-0.07730786676156491,-0.30507216740786314,0.11560412726155193,-0.12247224714106685,0.3331343746823378,-0.4009266698632758,-0.10205338953441574,-0.21857277763377256,-0.166757895837152,-0.10257155055431537,0.09733573383553015,-0.4059114908708748,-0.14746206419783828,0.08415174517843454,-0.4810201121999335,-0.2115457188159959,0.11501162357754184,-0.299514234664429,0.14718424735112015,-0.4101736064724979,-0.5732811407648034,-0.11946291074493466,-0.04979929245812862,0.09749298122123065,-0.3353220283050015,-0.2037269411173709,-0.02105981194222007,-0.25033213186328257,-0.20322582465043432,-0.2115457188159959,0.3014133126255693,-0.45953108897875056,-0.3608160531530999,0.2540215047215097,0.4344178140280331,0.12345317389460107,0.1182929688691828,0.2689233548182038,-0.33178090372133906,0.1196179952483609,-0.23622229892711968,-0.4381852597415843,-0.17151197739743237,-0.2011531189122975,-0.04999850765496699,-0.4641942337672852,0.14252110256258557,-0.6746935759636502,0.13394386548154993,-0.013816715827417276,0.3914238084895731,-0.2362429889949903,-0.0448868516159265,-0.3247538449035624,-0.5542490383505126,-0.3171512561415934,-0.10257155055431537,-0.07790037044557496,0.07556437058644272,-0.24324935774489634,-0.08024701245531651,-0.3642708615287045,-0.505004384019895,-0.0448868516159265,-0.4092885470794206,-0.14139152137972258,-0.41557117704449575,-0.5302579303016893,-0.2115457188159959,-0.2411868603308611,-0.11228875729185893,0.07045271454740223,-0.6746935759636502,-0.24324935774489634,-0.43749978767928366,0.15587247611633784,0.046243484394500024,-0.46217636779040744,-0.08275755789510202,-0.505004384019895,-0.02105981194222007,0.4800458139458585,-0.2256609517545421,-0.29248717584665235,-0.299514234664429,-0.02929520717292674,-0.44029987771715884,-0.15237920837077015,-0.023757211315416242,-0.02929520717292674,-0.4059114908708748,-0.381234910759751,-0.36076393259156064,-0.08846171761815251,-0.21708371467350643,-0.2074357488773728,-0.46217636779040744,-0.23622229892711968,-0.2581509095619076,-0.43319333892018586,0.33854500529387194,0.29733987490331526,-0.29248717584665235,-0.5579341877814651,-0.18370168546434087,0.0776789885620173,0.1172571204901523,0.09960759919680522,-0.1715177926243834,-0.2733485915930391,-0.07943930683732724,0.9550737542120863,-0.2411868603308611,0.0002985171111289021,-0.6078744516853394,0.6418132286512793,0.06637295218416966,-0.3627817985684384,-0.09731214930648675,-0.10959135791866277,-0.29248717584665235,-0.13281755701661827,0.0991211675945308,-0.5662540819470268,0.004985999620390403,-0.304499055672028,-0.3897026283043075,0.10626122169222534,-0.04765156736554262,0.3661178189283055,-0.37341613306112603,0.884032804410195,-0.42552055945583617,-0.2396977973705949,-0.23622229892711968,-0.29460179382222684,-0.48384793378940405,0.16885581335011687,-0.02453531038569532,-0.1503167109567349,-0.2651609946398666,-0.09265481974490317,-0.2396977973705949,-0.7667662465237554,-0.2925392964081916,0.00171150290112363,-0.15386827133103628,-0.004618627061803015,-0.14208131572602825,-0.5120314428376717,0.3069513084830798,-0.5417123129160055,-0.5831978715742157,0.42166592065878056,-0.10257155055431537,-0.25033213186328257,0.12338251830897234,-0.19406725494374993,0.07747977336517889,-0.3461067739545281,-0.10257155055431537,0.09738428282190793,-0.40235993049657337,0.03885901773661008,-0.34874495295238556,-0.3144157864814402,-0.2798224755609042,-0.5064620164864926,0.17626132150467352,0.1607151533244969,-0.25033213186328257,0.12322527092327185,0.5183612333694695,-0.032607643003750485,0.2767421325168289,0.1267007693667471,-0.24825364771210642,-0.166757895837152,-0.7309584528831827,-0.39657172623213316,-0.3797458477994849,0.18808702461170862,-0.3144157864814402,-0.505004384019895,-0.46217636779040744,-0.0019212276886068295,-0.5120314428376717,-0.22513739073225916,-0.4059114908708748,0.15196266663212746,0.28016551039876475,0.06157964553192924,-0.24732208196289984,-0.19406725494374993,0.41035605039358114,0.15919072717411262,0.15196266663212746,-0.09265481974490317,0.0844548446131261,0.2259577308908841,-0.15386827133103628,-0.08080018730522794,-0.3353220283050015,-0.38192038282205165,0.3069513084830798,-0.5323725482772639,-0.2396977973705949,-0.1441438131400635,-0.24324935774489634,-0.37169418979928814,0.16228383595839285,-0.241961536263527,-0.05903895204248263,-0.25602981949328724,-0.40614424264553,-0.28010933726995013,0.05364153151179155,-0.035332166541618304,-0.24425748276227224,0.2599028004262117,-0.3436277127349382,-0.21723876630599057,-0.3436277127349382,-0.09784869645221009,-0.3436277127349382,-0.271733816843009,0.26882728783134274,-0.24425748276227224,-0.24660705829068844,-0.48038771406587527,-0.5179856299059382,0.5385909413748569,-0.17779477465801227,-0.2944214364059547,0.03260570717400484,0.3305047214480687,0.055985881117174625,-0.12928105270925283,-0.16942438819072436,-0.17944500635293523,-0.28010933726995013,-0.5930681976201494,-0.3762322096056753,-0.35693796631654645,-0.5188247261998041,-0.09414305961002949,-0.17779477465801227,-0.20586586584960478,-0.30433831371374614,-0.28010933726995013,-0.10984705695975128,1.0110853205619652,0.8073219893340351,0.530783098243994,0.5303005304209548,0.17230490718456076,-0.48038771406587527,-0.241961536263527,-0.12928105270925283,-0.24425748276227224,-0.40614424264553,-0.03461041645116449,-0.535876896181291,-0.3436277127349382,-0.009529053120105305,-0.5930681976201494,-0.40614424264553,-0.36063571447672776,-0.4482790029396401,-0.2863922430563824,-0.33559851938536595,1.2786219112729338,-0.7853173810665023,-0.5280690530504282,-0.5569679130789846,-0.3700439581043652,0.1914079925243675,-0.3255316069091809,0.22750366293828975,-0.27308198947477413,-0.30198873818533,0.3271610143412552,0.025575054447441636,-0.009529053120105305,-0.4866706198523076,0.025575054447441636,-0.4866706198523076,0.025575054447441636,0.025575054447441636,-0.4866706198523076,-0.20980742991603044,0.8059528127683805,-0.22221519874284676,0.530783098243994,0.054335649422251615,-0.3857624730290483,-0.051009758692910356,-0.6485573797355652,-0.7228008511559105,-0.3710509376184146,-0.4733603662706993,0.025575054447441636,-0.3880481368197727,0.011024203394642393,-0.3739901362980334,0.530783098243994,-0.3739901362980334,-0.17141581300336295,0.3380513469746019,-0.25831548328401155,-0.12155548195307439,-0.31850095418261765,0.9768632170920865,0.07872289484285076,-0.05903895204248263,0.634099506410328,0.23019443158442163,0.09043131983617389,0.46826656833340213,-0.2944214364059547,-0.4897517894538154,-0.5930681976201494,-0.35693796631654645,-0.241961536263527,-0.40614424264553,0.5419722793708015,0.46826656833340213,0.05364153151179155,-0.35693796631654645,-0.07842454468534632,-0.35693796631654645,0.5070576215206987,-0.03274895773142534,-0.1860828198264071,-0.2256609517545421,-0.013816715827417276,0.3602216136385824,0.1751528285468723,0.29585466637788455,0.2453949292136425,-0.2904752582122865,0.27608667267412745,-0.14804443037089218,-0.2863922430563824,-0.37169418979928814,0.39120380149725364,-0.09414305961002949,-0.015784908500378843,-0.001155260920633165,-0.6746935759636502,0.17120665035320407,0.017045461226124825,-0.4733603662706993,0.07099732408667234,0.1563038849568206,0.13676121163420485,0.12653160437733865,0.29540061388052175,-0.09414305961002949,-0.10890156357235711,-0.6999471222454445,-0.0764113074853088,-0.2863922430563824,-0.1248216282915305,0.11560412726155193,-0.15690820049193713,-0.32083768177538163,0.2883699611539585,-0.13416524736510757,-0.5179856299059382,-0.28915210268868974,0.0795619911367166,-0.20586125172236222,-0.24660705829068844,0.23288408396993002,-0.4043033007972679,-0.017405859182922527,-0.20980742991603044,-0.46217636779040744,-0.3059349163789982,-0.2583211518647899,-0.15237920837077015,-0.2199295349521224,0.28032207658195546,0.08702260763559438,-0.05475840444219838,-0.3739901362980334,-0.14729090000543868,0.1412394247534425,0.3999528979329683,0.041252646598733615,0.31362281138328374,0.26517049444001106,-0.241961536263527,0.03885901773661008,0.41223962583504026,-0.3491301231856835,0.3987170220468559,0.9994464157107399,-0.21337908639920705,-0.20980742991603044,0.14730236618806897,-0.020205949220797652,-0.2256609517545421,0.5843319082195945,-0.4059114908708748,-0.2094479364734566,0.39726710157673134,0.5314763204327517,-0.1089012652926743,-0.25033213186328257,0.4180326842927662,-0.03499426517327676,0.05510961599889944,0.49988012460638426,-0.008974038619258225,-0.15673461992822538,-0.008974038619258225,0.023515919188107266,0.053760569553621344,0.11560412726155193,0.04034808069687624,-0.21299949684775799,-0.5204591106868177,-0.06676452279866105,-0.5064620164864926,-0.24324935774489634,0.29585466637788455,-0.12890584611727893,0.4562222303150165,-0.5107501376289705,0.6011826677684121,0.42253108364916464,-0.001155260920633165,-0.15271341132695304,0.025578416602142513,0.18617805231408574,0.025578416602142513,0.289088913448407,-0.5542490383505126,0.05677274673845602,-0.21708371467350643,0.5382657843910564,0.1607151533244969,-0.34873451716174664,-0.001155260920633165,-0.4059114908708748,0.4436152476868517,-0.20945208918797484,-0.12218216470682468,-0.4059114908708748,0.011024203394642393,0.2860365384925817,0.3521195432974172,-0.3454169796082224,-0.05355185455663853,0.17276556345734065,0.19155229216800743,-0.09925329949654062,0.23536015511523212,0.33495971637320215,0.08476176268040349,0.2064650221984593,0.9756714965985727,-0.20102026862431055,0.8813418355181121,-0.14891969666443577,0.3448746606552442,0.1480943833486002,0.6940085222833933,0.4795589560527158,0.07916805152228346,0.32461440649765066,0.04034808069687624,-0.0764113074853088,-0.06523891553879084,0.08625082564066965,-0.05597175981078701,-0.19690121163477592,-0.10890156357235711,0.3154077599664712,0.32685585950466667,-0.3479742287745669,-0.03274895773142534,-0.5831978715742157,-0.25033213186328257,-0.28192582867407473,-0.18831277922567813,0.23536015511523212,0.5728692328225485,0.29585466637788455,-0.14139152137972258,-0.1248216282915305,0.14660532038833407,0.049255661579334704,0.4436152476868517,0.01043569075392749,-0.3412069845681385,0.2954203553371494,0.9064424387058009,0.29585466637788455,0.30287787076082573,-0.4059114908708748,0.09358317173702027,0.023515919188107266,0.1544219708025072,0.10113244057175722,-0.2649617794430283,0.711290049492774,0.4530976674555288,0.25808772032162486,0.10250836131403264,0.03089653141116178,0.08625082564066965,-0.15994911076308435,-0.24400454440937558,-0.22067613074694306,0.14027560564997515,-0.06168735516448943,0.14660532038833407,0.1705241104503247,0.27837002061044613,0.29585466637788455,0.2507032536637349,0.14328748455512702,-0.2798224755609042,0.3554339399203565,0.6725097767758219,-0.06375400529304294,0.41293107574897825,0.0399899420778091,0.4278339836627783,0.82876711217138,-0.29747199685425135,-0.15174979892062632,0.5204275852183401,-0.13977057069717888,0.25175800558326594,-0.15994911076308435,0.2996264959423978,0.9111055834943353,-0.17854485144216006,0.20257803006657152,0.2392812556319522,0.5230822102924627,0.5760386808544292,-0.01668075427238442,-0.43749978767928366,0.10250836131403264,0.728881853128538,0.1753631071829911,0.08922776017956505,0.22014267137833898,-0.29956635522596825,-0.5120314428376717,0.5984126926555441,0.2689233548182038,0.13907715684603544,0.5795902412287306,0.15541747500773206,0.7330614127418615,0.23641105259992773,0.6094322131276003,-0.08291480528080251,0.3453537903679396,0.19759320905897246,0.10250836131403264,0.23492584407449701,1.0251706205886277,-0.21708371467350643,0.21311561256056233,-0.15103431464001033,0.28579450648538895,-0.253791643569617,-0.38824499583771,-0.038490023220609654,0.47912464501198065,-0.0013597018551094115,-0.1169161704593447,0.005871797897143486,0.7070801252658356,-0.381234910759751,-0.05475840444219838,1.0912245842484969,0.2928215653031656,0.31222115716539517,-0.22513739073225916,0.14285317351439186,0.03595920087695709,0.021095232041149676,0.2891629585856231,0.207235746376278,-0.04298842257700801,-0.2980772922657021,0.8268662664917058,1.3045959963316267,0.289088913448407,0.11170317736171553,0.5738709236245229,-0.14761931158353878,-0.42403149649557004,-0.30243270382315735,-0.062732302242072,0.616459271945377,0.494325306648686,0.07539191628772074,0.2222697891700962,-0.22178341403379606,-0.08291480528080251,-0.08291480528080251,-0.3172158765193154,-0.14891969666443577,-0.6746935759636502,0.289088913448407,0.2392812556319522,-0.49035987683867505,0.8802802423116851,0.5213744242004371,1.0864203185157595,0.06832127447163994,0.2990056442578192,-0.27293022782323023,0.7639658538699469,-0.070515903787685,-0.21621398768261696,-0.23979454936929173,-0.19153740757149318,0.3996504746145107,-0.45019713956695995,0.5181002257608532,-0.10205338953441574,-0.17498747584090765,-0.2572851455438432,0.18437821685170672,0.5635256137489714,0.3363382792733438,0.2996264959423978,-0.34111023256944173,0.578872637545455,-0.3412069845681385,-0.3819145675951006,0.29284147554691686,-0.505004384019895,0.7266332188544222,0.4503872493031251,-0.2925392964081916,0.19140527566948337,-0.18162067676208096,0.6772756655350243,0.9550737542120863,0.1940040657034672,-0.3009474952977266,0.07724467752128217,-0.10257155055431537,1.1216049256907006,0.44542133183602656,0.39771151573909774,-0.35869758074269,0.5775277438146954,-0.1715177926243834,-0.3701456802808854,0.1251948707734457,0.08922776017956505,-0.3016288526400035,0.032962883260032445,0.5742094927569206,0.5648755433451299,0.7946489679907144,0.10250836131403264,-0.22513739073225916,-0.2799572866410069,0.5481825152004686,0.36087619386952946,-0.09054490510005841,0.6254030660808206,0.5184977906872993,-0.3144157864814402,-0.38549263326422367,-0.4313706594405656,0.301115558902664,0.3550938048320403,-0.2980772922657021,0.04016919591704095,0.43182965991976335,0.36885058149161987,0.512823237511959,-0.22513739073225916,-0.46217636779040744,0.24481925148946274,0.6458219236874718,0.4517359974687203,-0.03158467463907252,0.270272102983799,-0.23622229892711968,-0.014251026868152392,-0.4473269365349355,0.47928238221989783,0.28258001565053,0.4144201387092444,0.13907715684603544,1.2439671500890737,1.3045959963316267,0.48558792354257724,0.23698834148853226,0.5600371476401439,0.5227379224896284,0.36809539482714065,-0.2581509095619076,-0.06648917667351327,0.12614170975554267,-0.02929520717292674,-0.18131790408351703,0.3486720414257144,-0.20898884101944987,0.09479150814995028,0.47912464501198065,-0.004618627061803015,-0.070515903787685,-0.27218805345764324,0.8252155517970786,0.2958549646575674,-0.17854485144216006,0.05510961599889944,-0.23415980151308444,0.010425553242971359,0.08746418100925828,0.4353051583632386,0.21787550934779373,0.04016919591704095,0.7994943952044941,0.44739093168620037,0.15723965488102162,0.2996264959423978,-0.014251026868152392,-0.19344640325917134,0.3453537903679396,0.8762237489979584,0.18792977722600812,0.05055023143328068,0.14027560564997515,-0.15237920837077015,1.089875126891364,0.47912464501198065,0.06278327861412944,-0.014251026868152392,0.09705867018049555,0.31222115716539517,0.8267046147573447,-0.34111023256944173,0.15196266663212746,-0.44029987771715884,-0.5516095747658067,0.3363382792733438,0.09047635819409296,0.49944581356564915,-0.08646636565510389,-0.3593063001249631,0.2528250696052218,0.342347428410056,1.4830466999855803,0.6458219236874718,0.8096931482954886,-0.5732811407648034,-0.055666472532213025,-0.3412069845681385,0.15517715746698643,0.671272331625263,0.4282780995454619,-0.33929798888046037,0.17457674932921596,-0.16945529521034816,0.8605396937620073,0.38704183694091937,0.36357359324272565,0.7639658538699469,0.6605838188209262,-0.4059114908708748,0.25534470168114815,0.7299444616879781,0.23641105259992773,0.3453537903679396,-0.5064620164864926,0.09705867018049555,-0.03386009545311379,-0.2396977973705949,0.29930841693638316,0.6524263825392577,0.3823683463774495,-0.2581509095619076,0.30639254715155817,-0.08978461671287867,0.18792977722600812,-0.014251026868152392,0.16095547086524253,-0.1715177926243834,-0.378465574446447,0.29930841693638316,-0.44029987771715884,0.5183612333694695,-0.24324935774489634,0.5382657843910564,0.4565583605924264,-0.02929520717292674,-0.02057563988381076,-0.28915210268868974,0.33860984565254965,1.1878366081494418,1.1216049256907006,-0.0019212276886068295,0.37073720937833216,-0.028086870759996725,-0.40384899345683956,-0.15237920837077015,-0.010498464769642508,-0.29460179382222684,0.2212265575004825,-0.12218601914166012,0.5295150842260571,-0.23622229892711968,0.22014267137833898,-0.3172158765193154,0.6974321594697019,0.19140527566948337,-0.7667662465237554,0.23492584407449701,0.05842786705667422,-0.5323725482772639,0.35950015552047165,-0.19074900388597515,0.005123254257037992,0.2732814393799313,-0.5542490383505126,0.37405546043610693,-0.15237920837077015],\"type\":\"scatter\"},{\"marker\":{\"size\":12},\"mode\":\"markers+text\",\"name\":\"Associa\\u00e7\\u00e3o\",\"text\":[\"Idade_menores_idades\",\"Idade_idades_m\\u00e9dias\",\"Idade_maiores_idades\",\"Sexo_Feminino\",\"Sexo_Masculino\",\"Tipo_Dor_Peito_Assintomatico\",\"Tipo_Dor_Peito_Atipica\",\"Tipo_Dor_Peito_Sem_Dor\",\"Tipo_Dor_Peito_Tipica\",\"BC_Descan\\u00e7o_BC_Descan\\u00e7o_menor\",\"BC_Descan\\u00e7o_BC_Descan\\u00e7o_medio\",\"BC_Descan\\u00e7o_BC_Descan\\u00e7o_maior\",\"Colesterol_Colesterol_menor\",\"Colesterol_Colesterol_medio\",\"Colesterol_Colesterol_maior\",\"A\\u00e7ucar_Sangue_Diabetes\",\"A\\u00e7ucar_Sangue_Normal\",\"ECG_Descan\\u00e7o_Anormal_ST\",\"ECG_Descan\\u00e7o_Hipertrofia_VE\",\"ECG_Descan\\u00e7o_Normal\",\"BC_Max_BC_Max_menor\",\"BC_Max_BC_Max_medio\",\"BC_Max_BC_Max_maior\",\"Angina_Exerc_Nao\",\"Angina_Exerc_Sim\",\"Doen\\u00e7a_Card_Nao\",\"Doen\\u00e7a_Card_Sim\"],\"textposition\":\"top center\",\"x\":[0.7352798896665973,-0.08218350801491729,-0.6861100805626289,0.7644286523999397,-0.2221699458731652,-0.6276588925892632,1.0761102867915544,0.4716631371409459,0.34490507445363777,0.3403047140020842,0.011282990780007551,-0.5345633764447316,0.1615632316389728,0.2623710073082506,-0.036786343532970694,-0.7002034825496488,0.1936151483249553,-0.5802251347703106,0.0018074566292152622,0.16195976684414215,-0.7975963127993839,-0.05432200547221637,0.9878667474283677,0.5489262343695263,-0.845825151064655,0.8701146449883768,-0.7289084356104151],\"y\":[-0.5620842371230093,-0.10773909518822979,0.812057951491512,0.6226633476246095,-0.17157497528349508,-0.2382990021616908,-0.2123597248805204,0.3126324767412575,1.8967894284580242,-0.5583085546701894,-0.02048709970738148,0.7615024237373667,-0.42910182327131363,-0.08923010828941477,0.45620472998235573,0.32593175052015444,-0.10506708181860426,0.23567732274649775,1.0160636556098033,-0.429689061037145,-0.21073762090022494,-0.003044718157672155,0.2358017429082329,0.1466941936041264,-0.22765378676668835,0.12052037972367872,-0.10557320211750504],\"type\":\"scatter\"}],                        {\"template\":{\"data\":{\"bar\":[{\"error_x\":{\"color\":\"#2a3f5f\"},\"error_y\":{\"color\":\"#2a3f5f\"},\"marker\":{\"line\":{\"color\":\"#E5ECF6\",\"width\":0.5},\"pattern\":{\"fillmode\":\"overlay\",\"size\":10,\"solidity\":0.2}},\"type\":\"bar\"}],\"barpolar\":[{\"marker\":{\"line\":{\"color\":\"#E5ECF6\",\"width\":0.5},\"pattern\":{\"fillmode\":\"overlay\",\"size\":10,\"solidity\":0.2}},\"type\":\"barpolar\"}],\"carpet\":[{\"aaxis\":{\"endlinecolor\":\"#2a3f5f\",\"gridcolor\":\"white\",\"linecolor\":\"white\",\"minorgridcolor\":\"white\",\"startlinecolor\":\"#2a3f5f\"},\"baxis\":{\"endlinecolor\":\"#2a3f5f\",\"gridcolor\":\"white\",\"linecolor\":\"white\",\"minorgridcolor\":\"white\",\"startlinecolor\":\"#2a3f5f\"},\"type\":\"carpet\"}],\"choropleth\":[{\"colorbar\":{\"outlinewidth\":0,\"ticks\":\"\"},\"type\":\"choropleth\"}],\"contour\":[{\"colorbar\":{\"outlinewidth\":0,\"ticks\":\"\"},\"colorscale\":[[0.0,\"#0d0887\"],[0.1111111111111111,\"#46039f\"],[0.2222222222222222,\"#7201a8\"],[0.3333333333333333,\"#9c179e\"],[0.4444444444444444,\"#bd3786\"],[0.5555555555555556,\"#d8576b\"],[0.6666666666666666,\"#ed7953\"],[0.7777777777777778,\"#fb9f3a\"],[0.8888888888888888,\"#fdca26\"],[1.0,\"#f0f921\"]],\"type\":\"contour\"}],\"contourcarpet\":[{\"colorbar\":{\"outlinewidth\":0,\"ticks\":\"\"},\"type\":\"contourcarpet\"}],\"heatmap\":[{\"colorbar\":{\"outlinewidth\":0,\"ticks\":\"\"},\"colorscale\":[[0.0,\"#0d0887\"],[0.1111111111111111,\"#46039f\"],[0.2222222222222222,\"#7201a8\"],[0.3333333333333333,\"#9c179e\"],[0.4444444444444444,\"#bd3786\"],[0.5555555555555556,\"#d8576b\"],[0.6666666666666666,\"#ed7953\"],[0.7777777777777778,\"#fb9f3a\"],[0.8888888888888888,\"#fdca26\"],[1.0,\"#f0f921\"]],\"type\":\"heatmap\"}],\"heatmapgl\":[{\"colorbar\":{\"outlinewidth\":0,\"ticks\":\"\"},\"colorscale\":[[0.0,\"#0d0887\"],[0.1111111111111111,\"#46039f\"],[0.2222222222222222,\"#7201a8\"],[0.3333333333333333,\"#9c179e\"],[0.4444444444444444,\"#bd3786\"],[0.5555555555555556,\"#d8576b\"],[0.6666666666666666,\"#ed7953\"],[0.7777777777777778,\"#fb9f3a\"],[0.8888888888888888,\"#fdca26\"],[1.0,\"#f0f921\"]],\"type\":\"heatmapgl\"}],\"histogram\":[{\"marker\":{\"pattern\":{\"fillmode\":\"overlay\",\"size\":10,\"solidity\":0.2}},\"type\":\"histogram\"}],\"histogram2d\":[{\"colorbar\":{\"outlinewidth\":0,\"ticks\":\"\"},\"colorscale\":[[0.0,\"#0d0887\"],[0.1111111111111111,\"#46039f\"],[0.2222222222222222,\"#7201a8\"],[0.3333333333333333,\"#9c179e\"],[0.4444444444444444,\"#bd3786\"],[0.5555555555555556,\"#d8576b\"],[0.6666666666666666,\"#ed7953\"],[0.7777777777777778,\"#fb9f3a\"],[0.8888888888888888,\"#fdca26\"],[1.0,\"#f0f921\"]],\"type\":\"histogram2d\"}],\"histogram2dcontour\":[{\"colorbar\":{\"outlinewidth\":0,\"ticks\":\"\"},\"colorscale\":[[0.0,\"#0d0887\"],[0.1111111111111111,\"#46039f\"],[0.2222222222222222,\"#7201a8\"],[0.3333333333333333,\"#9c179e\"],[0.4444444444444444,\"#bd3786\"],[0.5555555555555556,\"#d8576b\"],[0.6666666666666666,\"#ed7953\"],[0.7777777777777778,\"#fb9f3a\"],[0.8888888888888888,\"#fdca26\"],[1.0,\"#f0f921\"]],\"type\":\"histogram2dcontour\"}],\"mesh3d\":[{\"colorbar\":{\"outlinewidth\":0,\"ticks\":\"\"},\"type\":\"mesh3d\"}],\"parcoords\":[{\"line\":{\"colorbar\":{\"outlinewidth\":0,\"ticks\":\"\"}},\"type\":\"parcoords\"}],\"pie\":[{\"automargin\":true,\"type\":\"pie\"}],\"scatter\":[{\"marker\":{\"colorbar\":{\"outlinewidth\":0,\"ticks\":\"\"}},\"type\":\"scatter\"}],\"scatter3d\":[{\"line\":{\"colorbar\":{\"outlinewidth\":0,\"ticks\":\"\"}},\"marker\":{\"colorbar\":{\"outlinewidth\":0,\"ticks\":\"\"}},\"type\":\"scatter3d\"}],\"scattercarpet\":[{\"marker\":{\"colorbar\":{\"outlinewidth\":0,\"ticks\":\"\"}},\"type\":\"scattercarpet\"}],\"scattergeo\":[{\"marker\":{\"colorbar\":{\"outlinewidth\":0,\"ticks\":\"\"}},\"type\":\"scattergeo\"}],\"scattergl\":[{\"marker\":{\"colorbar\":{\"outlinewidth\":0,\"ticks\":\"\"}},\"type\":\"scattergl\"}],\"scattermapbox\":[{\"marker\":{\"colorbar\":{\"outlinewidth\":0,\"ticks\":\"\"}},\"type\":\"scattermapbox\"}],\"scatterpolar\":[{\"marker\":{\"colorbar\":{\"outlinewidth\":0,\"ticks\":\"\"}},\"type\":\"scatterpolar\"}],\"scatterpolargl\":[{\"marker\":{\"colorbar\":{\"outlinewidth\":0,\"ticks\":\"\"}},\"type\":\"scatterpolargl\"}],\"scatterternary\":[{\"marker\":{\"colorbar\":{\"outlinewidth\":0,\"ticks\":\"\"}},\"type\":\"scatterternary\"}],\"surface\":[{\"colorbar\":{\"outlinewidth\":0,\"ticks\":\"\"},\"colorscale\":[[0.0,\"#0d0887\"],[0.1111111111111111,\"#46039f\"],[0.2222222222222222,\"#7201a8\"],[0.3333333333333333,\"#9c179e\"],[0.4444444444444444,\"#bd3786\"],[0.5555555555555556,\"#d8576b\"],[0.6666666666666666,\"#ed7953\"],[0.7777777777777778,\"#fb9f3a\"],[0.8888888888888888,\"#fdca26\"],[1.0,\"#f0f921\"]],\"type\":\"surface\"}],\"table\":[{\"cells\":{\"fill\":{\"color\":\"#EBF0F8\"},\"line\":{\"color\":\"white\"}},\"header\":{\"fill\":{\"color\":\"#C8D4E3\"},\"line\":{\"color\":\"white\"}},\"type\":\"table\"}]},\"layout\":{\"annotationdefaults\":{\"arrowcolor\":\"#2a3f5f\",\"arrowhead\":0,\"arrowwidth\":1},\"autotypenumbers\":\"strict\",\"coloraxis\":{\"colorbar\":{\"outlinewidth\":0,\"ticks\":\"\"}},\"colorscale\":{\"diverging\":[[0,\"#8e0152\"],[0.1,\"#c51b7d\"],[0.2,\"#de77ae\"],[0.3,\"#f1b6da\"],[0.4,\"#fde0ef\"],[0.5,\"#f7f7f7\"],[0.6,\"#e6f5d0\"],[0.7,\"#b8e186\"],[0.8,\"#7fbc41\"],[0.9,\"#4d9221\"],[1,\"#276419\"]],\"sequential\":[[0.0,\"#0d0887\"],[0.1111111111111111,\"#46039f\"],[0.2222222222222222,\"#7201a8\"],[0.3333333333333333,\"#9c179e\"],[0.4444444444444444,\"#bd3786\"],[0.5555555555555556,\"#d8576b\"],[0.6666666666666666,\"#ed7953\"],[0.7777777777777778,\"#fb9f3a\"],[0.8888888888888888,\"#fdca26\"],[1.0,\"#f0f921\"]],\"sequentialminus\":[[0.0,\"#0d0887\"],[0.1111111111111111,\"#46039f\"],[0.2222222222222222,\"#7201a8\"],[0.3333333333333333,\"#9c179e\"],[0.4444444444444444,\"#bd3786\"],[0.5555555555555556,\"#d8576b\"],[0.6666666666666666,\"#ed7953\"],[0.7777777777777778,\"#fb9f3a\"],[0.8888888888888888,\"#fdca26\"],[1.0,\"#f0f921\"]]},\"colorway\":[\"#636efa\",\"#EF553B\",\"#00cc96\",\"#ab63fa\",\"#FFA15A\",\"#19d3f3\",\"#FF6692\",\"#B6E880\",\"#FF97FF\",\"#FECB52\"],\"font\":{\"color\":\"#2a3f5f\"},\"geo\":{\"bgcolor\":\"white\",\"lakecolor\":\"white\",\"landcolor\":\"#E5ECF6\",\"showlakes\":true,\"showland\":true,\"subunitcolor\":\"white\"},\"hoverlabel\":{\"align\":\"left\"},\"hovermode\":\"closest\",\"mapbox\":{\"style\":\"light\"},\"paper_bgcolor\":\"white\",\"plot_bgcolor\":\"#E5ECF6\",\"polar\":{\"angularaxis\":{\"gridcolor\":\"white\",\"linecolor\":\"white\",\"ticks\":\"\"},\"bgcolor\":\"#E5ECF6\",\"radialaxis\":{\"gridcolor\":\"white\",\"linecolor\":\"white\",\"ticks\":\"\"}},\"scene\":{\"xaxis\":{\"backgroundcolor\":\"#E5ECF6\",\"gridcolor\":\"white\",\"gridwidth\":2,\"linecolor\":\"white\",\"showbackground\":true,\"ticks\":\"\",\"zerolinecolor\":\"white\"},\"yaxis\":{\"backgroundcolor\":\"#E5ECF6\",\"gridcolor\":\"white\",\"gridwidth\":2,\"linecolor\":\"white\",\"showbackground\":true,\"ticks\":\"\",\"zerolinecolor\":\"white\"},\"zaxis\":{\"backgroundcolor\":\"#E5ECF6\",\"gridcolor\":\"white\",\"gridwidth\":2,\"linecolor\":\"white\",\"showbackground\":true,\"ticks\":\"\",\"zerolinecolor\":\"white\"}},\"shapedefaults\":{\"line\":{\"color\":\"#2a3f5f\"}},\"ternary\":{\"aaxis\":{\"gridcolor\":\"white\",\"linecolor\":\"white\",\"ticks\":\"\"},\"baxis\":{\"gridcolor\":\"white\",\"linecolor\":\"white\",\"ticks\":\"\"},\"bgcolor\":\"#E5ECF6\",\"caxis\":{\"gridcolor\":\"white\",\"linecolor\":\"white\",\"ticks\":\"\"}},\"title\":{\"x\":0.05},\"xaxis\":{\"automargin\":true,\"gridcolor\":\"white\",\"linecolor\":\"white\",\"ticks\":\"\",\"title\":{\"standoff\":15},\"zerolinecolor\":\"white\",\"zerolinewidth\":2},\"yaxis\":{\"automargin\":true,\"gridcolor\":\"white\",\"linecolor\":\"white\",\"ticks\":\"\",\"title\":{\"standoff\":15},\"zerolinecolor\":\"white\",\"zerolinewidth\":2}}},\"title\":{\"text\":\"Mapa perceptual\"},\"autosize\":false,\"width\":800,\"height\":800},                        {\"responsive\": true}                    ).then(function(){\n",
              "                            \n",
              "var gd = document.getElementById('2678ae23-534d-465e-abf2-ab2314b642a5');\n",
              "var x = new MutationObserver(function (mutations, observer) {{\n",
              "        var display = window.getComputedStyle(gd).display;\n",
              "        if (!display || display === 'none') {{\n",
              "            console.log([gd, 'removed!']);\n",
              "            Plotly.purge(gd);\n",
              "            observer.disconnect();\n",
              "        }}\n",
              "}});\n",
              "\n",
              "// Listen for the removal of the full notebook cells\n",
              "var notebookContainer = gd.closest('#notebook-container');\n",
              "if (notebookContainer) {{\n",
              "    x.observe(notebookContainer, {childList: true});\n",
              "}}\n",
              "\n",
              "// Listen for the clearing of the current output cell\n",
              "var outputEl = gd.closest('.output');\n",
              "if (outputEl) {{\n",
              "    x.observe(outputEl, {childList: true});\n",
              "}}\n",
              "\n",
              "                        })                };                            </script>        </div>\n",
              "</body>\n",
              "</html>"
            ]
          },
          "metadata": {}
        }
      ]
    }
  ]
}